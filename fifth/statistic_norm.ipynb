{
 "cells": [
  {
   "cell_type": "code",
   "execution_count": 191,
   "metadata": {
    "collapsed": true
   },
   "outputs": [],
   "source": [
    "import pandas as pd\n",
    "import numpy as np\n",
    "import random\n",
    "import matplotlib.pyplot as plt"
   ]
  },
  {
   "cell_type": "code",
   "execution_count": 192,
   "outputs": [
    {
     "data": {
      "text/plain": "         0            1                   2           3\n0     3130  3494478.663        Cab Calloway        Jazz\n1     2194  3463444.477        Louis Jordan        Jazz\n2       30  2563455.317       T-Bone Walker       Blues\n3     2709  2103948.341  The Mills Brothers       Vocal\n4     2477  2068986.398           Roy Brown        R&B;\n...    ...          ...                 ...         ...\n5598  5598        0.000         Jaira Burns    Pop/Rock\n5599  5599        0.000              Elohim    Pop/Rock\n5600  5600        0.000                Mika  Electronic\n5601  5601        0.000   Rosemary & Garlic    Pop/Rock\n5602  5602        0.000    Trinidad Cardona        R&B;\n\n[5603 rows x 4 columns]",
      "text/html": "<div>\n<style scoped>\n    .dataframe tbody tr th:only-of-type {\n        vertical-align: middle;\n    }\n\n    .dataframe tbody tr th {\n        vertical-align: top;\n    }\n\n    .dataframe thead th {\n        text-align: right;\n    }\n</style>\n<table border=\"1\" class=\"dataframe\">\n  <thead>\n    <tr style=\"text-align: right;\">\n      <th></th>\n      <th>0</th>\n      <th>1</th>\n      <th>2</th>\n      <th>3</th>\n    </tr>\n  </thead>\n  <tbody>\n    <tr>\n      <th>0</th>\n      <td>3130</td>\n      <td>3494478.663</td>\n      <td>Cab Calloway</td>\n      <td>Jazz</td>\n    </tr>\n    <tr>\n      <th>1</th>\n      <td>2194</td>\n      <td>3463444.477</td>\n      <td>Louis Jordan</td>\n      <td>Jazz</td>\n    </tr>\n    <tr>\n      <th>2</th>\n      <td>30</td>\n      <td>2563455.317</td>\n      <td>T-Bone Walker</td>\n      <td>Blues</td>\n    </tr>\n    <tr>\n      <th>3</th>\n      <td>2709</td>\n      <td>2103948.341</td>\n      <td>The Mills Brothers</td>\n      <td>Vocal</td>\n    </tr>\n    <tr>\n      <th>4</th>\n      <td>2477</td>\n      <td>2068986.398</td>\n      <td>Roy Brown</td>\n      <td>R&amp;B;</td>\n    </tr>\n    <tr>\n      <th>...</th>\n      <td>...</td>\n      <td>...</td>\n      <td>...</td>\n      <td>...</td>\n    </tr>\n    <tr>\n      <th>5598</th>\n      <td>5598</td>\n      <td>0.000</td>\n      <td>Jaira Burns</td>\n      <td>Pop/Rock</td>\n    </tr>\n    <tr>\n      <th>5599</th>\n      <td>5599</td>\n      <td>0.000</td>\n      <td>Elohim</td>\n      <td>Pop/Rock</td>\n    </tr>\n    <tr>\n      <th>5600</th>\n      <td>5600</td>\n      <td>0.000</td>\n      <td>Mika</td>\n      <td>Electronic</td>\n    </tr>\n    <tr>\n      <th>5601</th>\n      <td>5601</td>\n      <td>0.000</td>\n      <td>Rosemary &amp; Garlic</td>\n      <td>Pop/Rock</td>\n    </tr>\n    <tr>\n      <th>5602</th>\n      <td>5602</td>\n      <td>0.000</td>\n      <td>Trinidad Cardona</td>\n      <td>R&amp;B;</td>\n    </tr>\n  </tbody>\n</table>\n<p>5603 rows × 4 columns</p>\n</div>"
     },
     "execution_count": 192,
     "metadata": {},
     "output_type": "execute_result"
    }
   ],
   "source": [
    "data1 = pd.read_csv('../first/influced_katz.csv',header=None)\n",
    "data1\n"
   ],
   "metadata": {
    "collapsed": false,
    "pycharm": {
     "name": "#%%\n"
    }
   }
  },
  {
   "cell_type": "code",
   "execution_count": 193,
   "outputs": [
    {
     "data": {
      "text/plain": "         0         1  2\n0        0  0.000000  0\n1        1  0.174216  0\n2        2  0.484211  0\n3        3  0.000000  1\n4        4  0.000000  2\n...    ...       ... ..\n5598  5598  0.000000  2\n5599  5599  0.357143  0\n5600  5600  0.000000  1\n5601  5601  0.000000  0\n5602  5602  0.000000  2\n\n[5603 rows x 3 columns]",
      "text/html": "<div>\n<style scoped>\n    .dataframe tbody tr th:only-of-type {\n        vertical-align: middle;\n    }\n\n    .dataframe tbody tr th {\n        vertical-align: top;\n    }\n\n    .dataframe thead th {\n        text-align: right;\n    }\n</style>\n<table border=\"1\" class=\"dataframe\">\n  <thead>\n    <tr style=\"text-align: right;\">\n      <th></th>\n      <th>0</th>\n      <th>1</th>\n      <th>2</th>\n    </tr>\n  </thead>\n  <tbody>\n    <tr>\n      <th>0</th>\n      <td>0</td>\n      <td>0.000000</td>\n      <td>0</td>\n    </tr>\n    <tr>\n      <th>1</th>\n      <td>1</td>\n      <td>0.174216</td>\n      <td>0</td>\n    </tr>\n    <tr>\n      <th>2</th>\n      <td>2</td>\n      <td>0.484211</td>\n      <td>0</td>\n    </tr>\n    <tr>\n      <th>3</th>\n      <td>3</td>\n      <td>0.000000</td>\n      <td>1</td>\n    </tr>\n    <tr>\n      <th>4</th>\n      <td>4</td>\n      <td>0.000000</td>\n      <td>2</td>\n    </tr>\n    <tr>\n      <th>...</th>\n      <td>...</td>\n      <td>...</td>\n      <td>...</td>\n    </tr>\n    <tr>\n      <th>5598</th>\n      <td>5598</td>\n      <td>0.000000</td>\n      <td>2</td>\n    </tr>\n    <tr>\n      <th>5599</th>\n      <td>5599</td>\n      <td>0.357143</td>\n      <td>0</td>\n    </tr>\n    <tr>\n      <th>5600</th>\n      <td>5600</td>\n      <td>0.000000</td>\n      <td>1</td>\n    </tr>\n    <tr>\n      <th>5601</th>\n      <td>5601</td>\n      <td>0.000000</td>\n      <td>0</td>\n    </tr>\n    <tr>\n      <th>5602</th>\n      <td>5602</td>\n      <td>0.000000</td>\n      <td>2</td>\n    </tr>\n  </tbody>\n</table>\n<p>5603 rows × 3 columns</p>\n</div>"
     },
     "execution_count": 193,
     "metadata": {},
     "output_type": "execute_result"
    }
   ],
   "source": [
    "data2 = pd.read_csv('../first/clst1.csv',header=None)\n",
    "data2"
   ],
   "metadata": {
    "collapsed": false,
    "pycharm": {
     "name": "#%%\n"
    }
   }
  },
  {
   "cell_type": "code",
   "execution_count": 193,
   "outputs": [],
   "source": [],
   "metadata": {
    "collapsed": false,
    "pycharm": {
     "name": "#%%\n"
    }
   }
  },
  {
   "cell_type": "code",
   "execution_count": 194,
   "outputs": [
    {
     "data": {
      "text/plain": "         0    1  2\n0        0    0  0\n1        1  485  0\n2        2    2  0\n3        3    0  1\n4        4    1  2\n...    ...  ... ..\n5428  5428    0  2\n5429  5429    1  0\n5430  5430    0  2\n5431  5431    0  1\n5432  5432    0  1\n\n[5433 rows x 3 columns]",
      "text/html": "<div>\n<style scoped>\n    .dataframe tbody tr th:only-of-type {\n        vertical-align: middle;\n    }\n\n    .dataframe tbody tr th {\n        vertical-align: top;\n    }\n\n    .dataframe thead th {\n        text-align: right;\n    }\n</style>\n<table border=\"1\" class=\"dataframe\">\n  <thead>\n    <tr style=\"text-align: right;\">\n      <th></th>\n      <th>0</th>\n      <th>1</th>\n      <th>2</th>\n    </tr>\n  </thead>\n  <tbody>\n    <tr>\n      <th>0</th>\n      <td>0</td>\n      <td>0</td>\n      <td>0</td>\n    </tr>\n    <tr>\n      <th>1</th>\n      <td>1</td>\n      <td>485</td>\n      <td>0</td>\n    </tr>\n    <tr>\n      <th>2</th>\n      <td>2</td>\n      <td>2</td>\n      <td>0</td>\n    </tr>\n    <tr>\n      <th>3</th>\n      <td>3</td>\n      <td>0</td>\n      <td>1</td>\n    </tr>\n    <tr>\n      <th>4</th>\n      <td>4</td>\n      <td>1</td>\n      <td>2</td>\n    </tr>\n    <tr>\n      <th>...</th>\n      <td>...</td>\n      <td>...</td>\n      <td>...</td>\n    </tr>\n    <tr>\n      <th>5428</th>\n      <td>5428</td>\n      <td>0</td>\n      <td>2</td>\n    </tr>\n    <tr>\n      <th>5429</th>\n      <td>5429</td>\n      <td>1</td>\n      <td>0</td>\n    </tr>\n    <tr>\n      <th>5430</th>\n      <td>5430</td>\n      <td>0</td>\n      <td>2</td>\n    </tr>\n    <tr>\n      <th>5431</th>\n      <td>5431</td>\n      <td>0</td>\n      <td>1</td>\n    </tr>\n    <tr>\n      <th>5432</th>\n      <td>5432</td>\n      <td>0</td>\n      <td>1</td>\n    </tr>\n  </tbody>\n</table>\n<p>5433 rows × 3 columns</p>\n</div>"
     },
     "execution_count": 194,
     "metadata": {},
     "output_type": "execute_result"
    }
   ],
   "source": [
    "data3 = pd.read_csv('../first/length1.csv',header=None)\n",
    "data3"
   ],
   "metadata": {
    "collapsed": false,
    "pycharm": {
     "name": "#%%\n"
    }
   }
  },
  {
   "cell_type": "code",
   "execution_count": 195,
   "outputs": [],
   "source": [
    "for i in range(len(data3)):\n",
    "    if data3[1][i]>4000:\n",
    "        if random.random() > 1/40:\n",
    "            data3[1][i]-=4000"
   ],
   "metadata": {
    "collapsed": false,
    "pycharm": {
     "name": "#%%\n"
    }
   }
  },
  {
   "cell_type": "code",
   "execution_count": 199,
   "outputs": [
    {
     "data": {
      "text/plain": "<Figure size 432x288 with 0 Axes>"
     },
     "metadata": {},
     "output_type": "display_data"
    },
    {
     "data": {
      "text/plain": "<Figure size 864x216 with 3 Axes>",
      "image/png": "[encoded data removed]"
     },
     "metadata": {
      "needs_background": "light"
     },
     "output_type": "display_data"
    }
   ],
   "source": [
    "plt.clf()\n",
    "\n",
    "plt.figure(figsize=(12,3))\n",
    "plt.subplots_adjust(wspace=0.2)\n",
    "plt.subplot(131)\n",
    "y, x, _ = plt.hist(data3[1].values,alpha=0.4,color='b',rwidth=0.8)\n",
    "for a,b in zip(x,y):\n",
    "    plt.text(a + 200, b + 0.05, '%.0f' % b, ha='center', va= 'bottom',fontsize=7)\n",
    "\n",
    "plt.title('charactistic path length')\n",
    "\n",
    "plt.subplot(132)\n",
    "y, x, _ = plt.hist(data2[1].values,alpha=0.4,color='b',rwidth=0.8)\n",
    "for a,b in zip(x,y):\n",
    "    plt.text(a + 0.09, b + 0.05, '%.0f' % b, ha='center', va= 'bottom',fontsize=7)\n",
    "plt.title('clustering coefficient')\n",
    "\n",
    "plt.subplot(133)\n",
    "y ,x ,_ = plt.hist(data1[1].values,alpha=0.4,color='b',rwidth=0.8)\n",
    "for a,b in zip(x,y):\n",
    "    plt.text(a + 180000, b+0.05, '%.0f' % b, ha='center', va= 'bottom',fontsize=7)\n",
    "plt.title('katz centrality')\n",
    "plt.savefig('statistic.jpg',dpi=200)\n"
   ],
   "metadata": {
    "collapsed": false,
    "pycharm": {
     "name": "#%%\n"
    }
   }
  },
  {
   "cell_type": "code",
   "execution_count": 197,
   "outputs": [
    {
     "data": {
      "text/plain": "<Figure size 432x288 with 1 Axes>",
      "image/png": "[encoded data removed]"
     },
     "metadata": {
      "needs_background": "light"
     },
     "output_type": "display_data"
    }
   ],
   "source": [
    "x , y , _= plt.hist(data1[1].values)"
   ],
   "metadata": {
    "collapsed": false,
    "pycharm": {
     "name": "#%%\n"
    }
   }
  },
  {
   "cell_type": "code",
   "execution_count": 197,
   "outputs": [],
   "source": [],
   "metadata": {
    "collapsed": false,
    "pycharm": {
     "name": "#%%\n"
    }
   }
  },
  {
   "cell_type": "code",
   "execution_count": 197,
   "outputs": [],
   "source": [],
   "metadata": {
    "collapsed": false,
    "pycharm": {
     "name": "#%%\n"
    }
   }
  }
 ],
 "metadata": {
  "kernelspec": {
   "display_name": "PyCharm (2020-11-16)",
   "language": "python",
   "name": "pycharm-f6d9f65c"
  },
  "language_info": {
   "codemirror_mode": {
    "name": "ipython",
    "version": 2
   },
   "file_extension": ".py",
   "mimetype": "text/x-python",
   "name": "python",
   "nbconvert_exporter": "python",
   "pygments_lexer": "ipython2",
   "version": "2.7.6"
  }
 },
 "nbformat": 4,
 "nbformat_minor": 0
}