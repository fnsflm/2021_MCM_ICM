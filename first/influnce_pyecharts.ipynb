{
 "cells": [
  {
   "cell_type": "code",
   "execution_count": 66,
   "metadata": {
    "ExecuteTime": {
     "end_time": "2021-02-05T11:15:33.175171Z",
     "start_time": "2021-02-05T11:15:33.171612Z"
    }
   },
   "outputs": [],
   "source": [
    "import pandas as pd\n",
    "from pyecharts.charts import Graph\n",
    "from pyecharts import options as opts"
   ]
  },
  {
   "cell_type": "code",
   "execution_count": 67,
   "metadata": {
    "ExecuteTime": {
     "end_time": "2021-02-05T11:11:49.755732Z",
     "start_time": "2021-02-05T11:11:49.681249Z"
    }
   },
   "outputs": [
    {
     "data": {
      "text/plain": "       inf_id  influencer_id  influencer_name influencer_main_genre  \\\n0        4010         759491    The Exploited              Pop/Rock   \n1         219          25462           Tricky            Electronic   \n2         559          66915        Bob Dylan              Pop/Rock   \n3         590          71209    Leonard Cohen              Pop/Rock   \n4         762          91438     The Gun Club              Pop/Rock   \n...       ...            ...              ...                   ...   \n42765    3302         580300   Sufjan Stevens              Pop/Rock   \n42766    2081         261309      Vybz Kartel                Reggae   \n42767    2837         467203  Michael Jackson                  R&B;   \n42768    5374        2518003          Popcaan                Reggae   \n42769    5446        2896351        Tommy Lee                Reggae   \n\n       influencer_active_start  flw_id  follower_id      follower_name  \\\n0                         1980       0           74     Special Duties   \n1                         1990       1          335          PJ Harvey   \n2                         1960       1          335          PJ Harvey   \n3                         1950       1          335          PJ Harvey   \n4                         1980       1          335          PJ Harvey   \n...                        ...     ...          ...                ...   \n42765                     1990    5601      3661738  Rosemary & Garlic   \n42766                     2000    5602      3670556   Trinidad Cardona   \n42767                     1960    5602      3670556   Trinidad Cardona   \n42768                     2000    5602      3670556   Trinidad Cardona   \n42769                     2000    5602      3670556   Trinidad Cardona   \n\n      follower_main_genre  follower_active_start  \n0                Pop/Rock                   1980  \n1                Pop/Rock                   1990  \n2                Pop/Rock                   1990  \n3                Pop/Rock                   1990  \n4                Pop/Rock                   1990  \n...                   ...                    ...  \n42765            Pop/Rock                   2010  \n42766                R&B;                   2010  \n42767                R&B;                   2010  \n42768                R&B;                   2010  \n42769                R&B;                   2010  \n\n[42770 rows x 10 columns]",
      "text/html": "<div>\n<style scoped>\n    .dataframe tbody tr th:only-of-type {\n        vertical-align: middle;\n    }\n\n    .dataframe tbody tr th {\n        vertical-align: top;\n    }\n\n    .dataframe thead th {\n        text-align: right;\n    }\n</style>\n<table border=\"1\" class=\"dataframe\">\n  <thead>\n    <tr style=\"text-align: right;\">\n      <th></th>\n      <th>inf_id</th>\n      <th>influencer_id</th>\n      <th>influencer_name</th>\n      <th>influencer_main_genre</th>\n      <th>influencer_active_start</th>\n      <th>flw_id</th>\n      <th>follower_id</th>\n      <th>follower_name</th>\n      <th>follower_main_genre</th>\n      <th>follower_active_start</th>\n    </tr>\n  </thead>\n  <tbody>\n    <tr>\n      <th>0</th>\n      <td>4010</td>\n      <td>759491</td>\n      <td>The Exploited</td>\n      <td>Pop/Rock</td>\n      <td>1980</td>\n      <td>0</td>\n      <td>74</td>\n      <td>Special Duties</td>\n      <td>Pop/Rock</td>\n      <td>1980</td>\n    </tr>\n    <tr>\n      <th>1</th>\n      <td>219</td>\n      <td>25462</td>\n      <td>Tricky</td>\n      <td>Electronic</td>\n      <td>1990</td>\n      <td>1</td>\n      <td>335</td>\n      <td>PJ Harvey</td>\n      <td>Pop/Rock</td>\n      <td>1990</td>\n    </tr>\n    <tr>\n      <th>2</th>\n      <td>559</td>\n      <td>66915</td>\n      <td>Bob Dylan</td>\n      <td>Pop/Rock</td>\n      <td>1960</td>\n      <td>1</td>\n      <td>335</td>\n      <td>PJ Harvey</td>\n      <td>Pop/Rock</td>\n      <td>1990</td>\n    </tr>\n    <tr>\n      <th>3</th>\n      <td>590</td>\n      <td>71209</td>\n      <td>Leonard Cohen</td>\n      <td>Pop/Rock</td>\n      <td>1950</td>\n      <td>1</td>\n      <td>335</td>\n      <td>PJ Harvey</td>\n      <td>Pop/Rock</td>\n      <td>1990</td>\n    </tr>\n    <tr>\n      <th>4</th>\n      <td>762</td>\n      <td>91438</td>\n      <td>The Gun Club</td>\n      <td>Pop/Rock</td>\n      <td>1980</td>\n      <td>1</td>\n      <td>335</td>\n      <td>PJ Harvey</td>\n      <td>Pop/Rock</td>\n      <td>1990</td>\n    </tr>\n    <tr>\n      <th>...</th>\n      <td>...</td>\n      <td>...</td>\n      <td>...</td>\n      <td>...</td>\n      <td>...</td>\n      <td>...</td>\n      <td>...</td>\n      <td>...</td>\n      <td>...</td>\n      <td>...</td>\n    </tr>\n    <tr>\n      <th>42765</th>\n      <td>3302</td>\n      <td>580300</td>\n      <td>Sufjan Stevens</td>\n      <td>Pop/Rock</td>\n      <td>1990</td>\n      <td>5601</td>\n      <td>3661738</td>\n      <td>Rosemary &amp; Garlic</td>\n      <td>Pop/Rock</td>\n      <td>2010</td>\n    </tr>\n    <tr>\n      <th>42766</th>\n      <td>2081</td>\n      <td>261309</td>\n      <td>Vybz Kartel</td>\n      <td>Reggae</td>\n      <td>2000</td>\n      <td>5602</td>\n      <td>3670556</td>\n      <td>Trinidad Cardona</td>\n      <td>R&amp;B;</td>\n      <td>2010</td>\n    </tr>\n    <tr>\n      <th>42767</th>\n      <td>2837</td>\n      <td>467203</td>\n      <td>Michael Jackson</td>\n      <td>R&amp;B;</td>\n      <td>1960</td>\n      <td>5602</td>\n      <td>3670556</td>\n      <td>Trinidad Cardona</td>\n      <td>R&amp;B;</td>\n      <td>2010</td>\n    </tr>\n    <tr>\n      <th>42768</th>\n      <td>5374</td>\n      <td>2518003</td>\n      <td>Popcaan</td>\n      <td>Reggae</td>\n      <td>2000</td>\n      <td>5602</td>\n      <td>3670556</td>\n      <td>Trinidad Cardona</td>\n      <td>R&amp;B;</td>\n      <td>2010</td>\n    </tr>\n    <tr>\n      <th>42769</th>\n      <td>5446</td>\n      <td>2896351</td>\n      <td>Tommy Lee</td>\n      <td>Reggae</td>\n      <td>2000</td>\n      <td>5602</td>\n      <td>3670556</td>\n      <td>Trinidad Cardona</td>\n      <td>R&amp;B;</td>\n      <td>2010</td>\n    </tr>\n  </tbody>\n</table>\n<p>42770 rows × 10 columns</p>\n</div>"
     },
     "execution_count": 67,
     "metadata": {},
     "output_type": "execute_result"
    }
   ],
   "source": [
    "data = pd.read_csv(\"data/influence_data.csv\")\n",
    "data"
   ]
  },
  {
   "cell_type": "code",
   "execution_count": 5,
   "metadata": {
    "ExecuteTime": {
     "end_time": "2021-02-05T00:37:44.938871Z",
     "start_time": "2021-02-05T00:37:44.924688Z"
    }
   },
   "outputs": [],
   "source": [
    "iftofl = data[['influencer_id','follower_id']]"
   ]
  },
  {
   "cell_type": "code",
   "execution_count": 28,
   "metadata": {
    "ExecuteTime": {
     "end_time": "2021-02-05T12:47:14.720297Z",
     "start_time": "2021-02-05T12:47:14.705003Z"
    }
   },
   "outputs": [
    {
     "data": {
      "text/plain": [
       "{'Blues': 0,\n",
       " 'Stage & Screen': 1,\n",
       " 'Religious': 2,\n",
       " 'Jazz': 3,\n",
       " 'R&B;': 4,\n",
       " 'Pop/Rock': 5,\n",
       " 'Classical': 6,\n",
       " 'Vocal': 7,\n",
       " 'Reggae': 8,\n",
       " \"Children's\": 9,\n",
       " 'New Age': 10,\n",
       " 'Avant-Garde': 11,\n",
       " 'Electronic': 12,\n",
       " 'Latin': 13,\n",
       " 'Comedy/Spoken': 14,\n",
       " 'Easy Listening': 15,\n",
       " 'Unknown': 16,\n",
       " 'Folk': 17,\n",
       " 'International': 18,\n",
       " 'Country': 19}"
      ]
     },
     "execution_count": 28,
     "metadata": {},
     "output_type": "execute_result"
    }
   ],
   "source": [
    "genre_map={}\n",
    "t=0\n",
    "for i in set(data['influencer_main_genre'])|set(data['follower_main_genre']):\n",
    "    genre_map[i]=t\n",
    "    t+=1\n",
    "genre_map"
   ]
  },
  {
   "cell_type": "code",
   "execution_count": 41,
   "metadata": {
    "ExecuteTime": {
     "end_time": "2021-02-05T13:39:16.709702Z",
     "start_time": "2021-02-05T13:39:16.703492Z"
    }
   },
   "outputs": [
    {
     "data": {
      "text/plain": [
       "3761"
      ]
     },
     "execution_count": 41,
     "metadata": {},
     "output_type": "execute_result"
    }
   ],
   "source": [
    "t = 0\n",
    "len(data['influencer_name'].unique())"
   ]
  },
  {
   "cell_type": "code",
   "execution_count": 68,
   "metadata": {
    "ExecuteTime": {
     "end_time": "2021-02-05T13:55:38.623006Z",
     "start_time": "2021-02-05T13:55:36.399692Z"
    }
   },
   "outputs": [
    {
     "data": {
      "text/plain": "{'The Exploited': 5,\n 'Special Duties': 5,\n 'Tricky': 12,\n 'PJ Harvey': 5,\n 'Bob Dylan': 5,\n 'Leonard Cohen': 5,\n 'The Gun Club': 5,\n 'Chrissie Hynde': 5,\n 'Crime & the City Solution': 5,\n 'Lesley Gore': 5,\n 'Massive Attack': 12,\n 'Nick Cave': 5,\n 'The Raincoats': 5,\n 'Pretenders': 5,\n 'Tom Waits': 5,\n 'Marianne Faithfull': 5,\n 'Patti Smith': 5,\n 'Sonic Youth': 5,\n 'Pere Ubu': 5,\n 'Pixies': 5,\n 'The Smiths': 5,\n 'X': 5,\n 'Captain Beefheart': 5,\n 'Bad Brains': 5,\n 'P.O.D.': 5,\n 'Black Flag': 5,\n 'Korn': 5,\n 'Faith No More': 5,\n 'Eek-A-Mouse': 8,\n 'Santana': 5,\n 'Primus': 5,\n 'Metallica': 5,\n '311': 5,\n 'Suicidal Tendencies': 5,\n 'Sepultura': 5,\n 'Extreme': 5,\n 'Tool': 5,\n 'Fishbone': 5,\n \"Jane's Addiction\": 5,\n 'Living Colour': 5,\n 'Rage Against the Machine': 5,\n 'Red Hot Chili Peppers': 5,\n 'BÃ©la Fleck': 3,\n 'Tony Furtado': 5,\n 'Sam Bush': 19,\n 'Trey Anastasio': 5,\n 'Alice Cooper': 5,\n 'Soundgarden': 5,\n 'Spinal Tap': 14,\n 'Blue Cheer': 5,\n 'Blue Ã–yster Cult': 5,\n 'Killing Joke': 5,\n 'Kiss': 5,\n 'Crazy Horse': 5,\n 'Led Zeppelin': 5,\n 'MC5': 5,\n 'Funkadelic': 4,\n 'Gene Simmons': 5,\n 'Melvins': 5,\n 'Jimi Hendrix': 5,\n 'Neil Young': 5,\n 'Ohio Players': 4,\n 'Wipers': 5,\n 'Ramones': 5,\n 'Mountain': 5,\n 'The Stooges': 5,\n 'AC/DC': 5,\n 'Aerosmith': 5,\n 'Budgie': 5,\n 'The Beatles': 5,\n 'Black Sabbath': 5,\n 'Iron Butterfly': 5,\n 'The Velvet Underground': 5,\n 'Spice Girls': 5,\n 't.A.T.u.': 5,\n 'Boney M.': 5,\n 'Gwen Stefani': 5,\n 'Britney Spears': 5,\n 'Tanya Tucker': 19,\n 'Pam Tillis': 19,\n 'Patty Loveless': 19,\n 'Bobbie Gentry': 19,\n 'The Judds': 19,\n 'Connie Smith': 19,\n 'Tammy Wynette': 19,\n 'Dolly Parton': 19,\n 'Janie Fricke': 19,\n 'Loretta Lynn': 19,\n 'Ray Price': 19,\n 'Skeeter Davis': 19,\n 'Lynn Anderson': 19,\n 'Soulfly': 5,\n 'All That Remains': 5,\n 'In Flames': 5,\n 'Biohazard': 5,\n 'Vision of Disorder': 5,\n 'Hatebreed': 5,\n 'At the Gates': 5,\n 'Olivier Messiaen': 6,\n 'GyÃ¶rgy KurtÃ¡g': 6,\n 'Daddy Yankee': 13,\n 'Speedy': 12,\n 'Spyro Gyra': 3,\n 'Allan Holdsworth': 5,\n 'Jo Stafford': 7,\n 'Allan Sherman': 14,\n 'Victor Borge': 14,\n 'Theodore Bikel': 17,\n 'Spike Jones': 14,\n 'Simon & Garfunkel': 5,\n 'Sergio Mendes': 15,\n 'The Beach Boys': 5,\n 'Les Baxter': 15,\n 'Caetano Veloso': 13,\n 'Burt Bacharach': 5,\n 'Baden Powell': 13,\n 'AntÃ´nio Carlos Jobim': 13,\n 'JoÃ£o Gilberto': 18,\n 'Frank Sinatra': 7,\n 'EdÃº Lobo': 13,\n 'John Cage': 6,\n 'Tangerine Dream': 12,\n 'Pink Floyd': 5,\n 'Miles Davis': 3,\n 'Terry Riley': 11,\n 'Jefferson Airplane': 5,\n 'Grateful Dead': 5,\n 'Joan Armatrading': 5,\n 'Tanita Tikaram': 5,\n 'TLC': 4,\n 'Total': 4,\n 'En Vogue': 4,\n 'Janet Jackson': 4,\n 'Mariah Carey': 4,\n 'R. Kelly': 4,\n 'Mary J. Blige': 4,\n 'Chaka Khan': 4,\n 'Whitney Houston': 4,\n 'Cream': 5,\n 'Pat Travers': 5,\n 'Elmore James': 0,\n 'Eric Clapton': 5,\n 'Deep Purple': 5,\n 'Jeff Beck': 5,\n 'Leslie West': 5,\n 'The Yardbirds': 5,\n 'Little Walter': 0,\n 'Robin Trower': 5,\n 'The Rolling Stones': 5,\n 'Barry Manilow': 5,\n 'Pablo Cruise': 5,\n 'America': 5,\n 'Poco': 5,\n 'Brand New': 5,\n 'Alexisonfire': 5,\n 'Sunny Day Real Estate': 5,\n 'Stone Temple Pilots': 5,\n 'Quicksand': 5,\n 'Joe': 4,\n 'Tank': 4,\n 'Leonard Bernstein': 6,\n 'Andrew Lloyd Webber': 1,\n 'Jule Styne': 1,\n 'George Martin': 5,\n 'Stephen Sondheim': 1,\n 'U-Roy': 8,\n 'Pato Banton': 8,\n 'Derrick Morgan': 8,\n 'Jimmy Cliff': 8,\n 'Aswad': 8,\n 'Steel Pulse': 8,\n 'Toots & the Maytals': 8,\n 'Desmond Dekker': 8,\n 'Prince Jazzbo': 8,\n 'Creedence Clearwater Revival': 5,\n 'Southern Culture on the Skids': 5,\n 'The Cramps': 5,\n 'Lynyrd Skynyrd': 5,\n 'Charlie Feathers': 5,\n 'Link Wray': 5,\n 'Sam the Sham & the Pharaohs': 5,\n \"Screamin' Jay Hawkins\": 4,\n 'Jerry Lee Lewis': 5,\n 'Brian Setzer': 5,\n 'Mojo Nixon': 5,\n 'Dave Edmunds': 5,\n 'ZZ Top': 5,\n 'Tony Joe White': 5,\n 'Keith Richards': 5,\n 'Johnny Cash': 19,\n 'The Ventures': 5,\n 'Molly Hatchet': 5,\n 'Cab Calloway': 3,\n 'T-Bone Walker': 0,\n 'Charlie Christian': 3,\n 'Tony Rebel': 8,\n 'T.S.O.L.': 5,\n 'The Dickies': 5,\n 'The Weirdos': 5,\n 'Steven Halpern': 10,\n 'Parijat': 10,\n 'George Duke': 3,\n 'T-Connection': 4,\n 'Paula Abdul': 5,\n 'Selena': 13,\n 'Cyndi Lauper': 5,\n 'Fito Olivares': 13,\n 'Madonna': 5,\n 'Donna Summer': 4,\n 'Gloria Estefan': 5,\n 'Los Tigres del Norte': 13,\n 'The Kinks': 5,\n 'Space': 5,\n 'The Who': 5,\n 'Syreeta': 4,\n 'Alicia Keys': 4,\n 'Natalie Cole': 4,\n 'Isaac Hayes': 4,\n \"D'Angelo\": 4,\n 'Faith Evans': 4,\n 'Dionne Warwick': 4,\n 'Erykah Badu': 4,\n 'Sade': 4,\n 'Roberta Flack': 4,\n 'Marvin Gaye': 4,\n 'Prince': 4,\n 'Nina Simone': 7,\n 'The Sweet Inspirations': 4,\n 'Brenda Russell': 4,\n 'Stevie Wonder': 4,\n 'Maxwell': 4,\n 'Oleta Adams': 5,\n 'Aretha Franklin': 4,\n 'Allen Toussaint': 4,\n 'Slayer': 5,\n 'Pantera': 5,\n 'Iron Maiden': 5,\n 'Corrosion of Conformity': 5,\n 'Exhorder': 5,\n 'Judas Priest': 5,\n 'Van Halen': 5,\n 'Saint Vitus': 5,\n 'Venom': 5,\n 'Napalm Death': 5,\n 'Negative Approach': 5,\n 'Megadeth': 5,\n 'Ozzy Osbourne': 5,\n 'Anthrax': 5,\n 'MotÃ¶rhead': 5,\n 'Godflesh': 5,\n 'Annihilator': 5,\n 'Manowar': 5,\n 'Ted Nugent': 5,\n 'Testament': 5,\n 'Anvil': 5,\n 'Danzig': 5,\n 'System of a Down': 5,\n 'John Frusciante': 5,\n 'Rollins Band': 5,\n 'Nine Inch Nails': 5,\n 'Nirvana': 5,\n 'Neurosis': 5,\n 'Mr. Bungle': 5,\n 'Helmet': 5,\n 'Marilyn Manson': 5,\n 'T. Rex': 5,\n 'Chuck Berry': 5,\n 'Elvis Presley': 5,\n 'Donovan': 8,\n 'Little Richard': 5,\n 'The Paul Butterfield Blues Band': 0,\n 'Steppenwolf': 5,\n 'The Amboy Dukes': 5,\n 'King Crimson': 5,\n 'The Doors': 5,\n 'Laura Nyro': 5,\n 'Frank Zappa': 5,\n 'Vanilla Fudge': 5,\n 'John Barry': 1,\n 'The Pretty Things': 5,\n 'Tony Bennett': 7,\n 'Paolo Conte': 7,\n 'Ã‰dith Piaf': 7,\n 'Yves Montand': 7,\n 'Charles Aznavour': 7,\n 'Dave Brubeck': 3,\n 'Terry Gibbs': 3,\n 'Alice Coltrane': 3,\n 'John Coltrane': 3,\n 'Dexter Gordon': 3,\n 'Ravi Shankar': 18,\n 'Bud Powell': 3,\n 'McCoy Tyner': 3,\n 'Paul Oakenfold': 12,\n 'Robert Miles': 12,\n 'Paul van Dyk': 12,\n 'Pearl Jam': 5,\n 'Semisonic': 5,\n 'Paul Westerberg': 5,\n 'BoDeans': 5,\n 'Big Star': 5,\n 'The Connells': 5,\n 'Crowded House': 5,\n 'Foo Fighters': 5,\n 'Lindsey Buckingham': 5,\n 'Jimmy Buffett': 5,\n 'Matthew Sweet': 5,\n 'The Posies': 5,\n 'Tom Petty': 5,\n 'Marshall Crenshaw': 5,\n 'The Smithereens': 5,\n 'Todd Rundgren': 5,\n 'Gram Parsons': 5,\n 'Steely Dan': 5,\n 'Toto': 5,\n 'Bee Gees': 5,\n 'Blood, Sweat & Tears': 5,\n 'Boz Scaggs': 5,\n 'Larry Carlton': 3,\n 'Chicago': 5,\n 'Jackson Browne': 5,\n 'The Doobie Brothers': 5,\n 'Loggins & Messina': 5,\n 'Orleans': 5,\n 'Manfred Mann': 5,\n 'Yes': 5,\n 'Elton John': 5,\n 'Herbie Hancock': 3,\n 'Harold Arlen': 1,\n 'Billie Holiday': 7,\n 'Billy Eckstine': 7,\n 'Dizzy Gillespie': 3,\n 'Joe Mooney': 7,\n 'Ella Fitzgerald': 7,\n 'Sarah Vaughan': 7,\n 'Charlie Parker': 3,\n 'Johnny Hartman': 7,\n 'Joe Williams': 7,\n 'Johnny Mercer': 7,\n 'Stan Getz': 3,\n 'Max Roach': 3,\n 'Stan Levey': 3,\n 'Stephanie Mills': 4,\n 'Alicia Myers': 4,\n 'Deniece Williams': 4,\n 'The Jones Girls': 4,\n 'Ray Charles': 4,\n 'Ali Farka TourÃ©': 18,\n 'Big Joe Williams': 0,\n 'John Lee Hooker': 0,\n \"Lightnin' Hopkins\": 0,\n 'Compay Segundo': 13,\n 'Pablo MilanÃ©s': 13,\n 'Vicente FernÃ¡ndez': 13,\n 'Alicia Villarreal': 13,\n 'Luis Miguel': 13,\n 'Alejandro FernÃ¡ndez': 13,\n 'Alejandro Sanz': 13,\n 'Vassar Clements': 19,\n 'Alison Krauss & Union Station': 19,\n 'Ralph Stanley': 19,\n 'J.D. Crowe & the New South': 19,\n 'Steve Howe': 5,\n 'Brian May': 5,\n 'Jimmy Page': 5,\n 'George Harrison': 5,\n 'Rick Nielsen': 5,\n 'The Shadows': 5,\n 'Joe Satriani': 5,\n 'Smokey Robinson': 4,\n 'Pete Townshend': 5,\n 'Jaco Pastorius': 3,\n 'Tony Levin': 5,\n 'Jack Bruce': 5,\n 'The Five Satins': 4,\n 'The Delfonics': 4,\n 'The Five Keys': 4,\n 'The Impressions': 4,\n 'The Drifters': 4,\n 'Curtis Mayfield': 4,\n 'The Dells': 4,\n 'Gene Chandler': 4,\n 'Jerry Butler': 4,\n 'Brook Benton': 4,\n 'The Platters': 4,\n 'Pebbles': 4,\n 'Betty Wright': 4,\n 'Klymaxx': 4,\n 'Labelle': 4,\n 'The Supremes': 4,\n 'Minnie Riperton': 4,\n 'Atlantic Starr': 4,\n 'The Tams': 4,\n 'The Three Degrees': 4,\n 'Diana Ross': 4,\n 'Gloria Gaynor': 4,\n 'Sister Sledge': 4,\n 'New Edition': 4,\n 'The Pointer Sisters': 4,\n 'Bo Diddley': 5,\n 'The Trashmen': 5,\n 'The Champs': 5,\n 'Chubby Checker': 4,\n 'The Rivingtons': 4,\n 'The Kingsmen': 5,\n 'Blind Melon': 5,\n 'Papa Roach': 5,\n 'Kid Rock': 5,\n 'Fugazi': 5,\n 'Alice in Chains': 5,\n 'The Cult': 5,\n 'Sex Pistols': 5,\n 'Heart': 5,\n 'Misfits': 5,\n 'Ronnie Milsap': 19,\n 'T. Graham Brown': 19,\n 'Tower of Power': 4,\n 'Sharon Jones & the Dap-Kings': 4,\n 'The Mar-Keys': 4,\n 'Ike & Tina Turner': 4,\n 'James Brown': 4,\n 'Barbara Lynn': 4,\n 'Carla Thomas': 4,\n 'Fontella Bass': 4,\n 'Otis Redding': 4,\n 'The Memphis Horns': 4,\n 'Candi Staton': 4,\n 'Gladys Knight & the Pips': 4,\n 'Steve Cropper': 4,\n 'Irma Thomas': 4,\n 'Lyn Collins': 4,\n 'Etta James': 0,\n 'Was (Not Was)': 5,\n 'Otis Clay': 4,\n 'The Mamas & the Papas': 5,\n 'Spanky & Our Gang': 5,\n 'The Four Freshmen': 7,\n 'The New Christy Minstrels': 17,\n \"Herman's Hermits\": 5,\n 'The Flaming Lips': 5,\n 'Sparklehorse': 5,\n 'Galaxie 500': 5,\n 'R.E.M.': 5,\n 'The Replacements': 5,\n 'Guided by Voices': 5,\n 'The Boo Radleys': 5,\n 'Pavement': 5,\n 'Cracker': 5,\n 'Mojave 3': 5,\n 'Alkaline Trio': 5,\n 'Senses Fail': 5,\n 'Saves the Day': 5,\n 'Dag Nasty': 5,\n 'Youth of Today': 5,\n 'Cro-Mags': 5,\n 'Jawbreaker': 5,\n 'The Promise Ring': 5,\n 'Jawbox': 5,\n 'Sparta': 5,\n 'U2': 5,\n 'Government Issue': 5,\n 'Sheena Easton': 5,\n 'Patty Smyth': 5,\n 'Jody Watley': 4,\n 'Take That': 5,\n 'M People': 12,\n 'Howard Jones': 5,\n 'Leif Garrett': 5,\n 'Wham!': 5,\n 'Samantha Fox': 5,\n 'Lisa Stansfield': 4,\n 'Rick Astley': 5,\n 'New Kids on the Block': 5,\n 'The Partridge Family': 5,\n 'Ace of Base': 5,\n 'George Michael': 5,\n 'The Velvelettes': 4,\n 'Kylie Minogue': 5,\n 'Shalamar': 4,\n 'Menudo': 13,\n 'Sparks': 5,\n 'Jacques Brel': 7,\n 'Scott Walker': 5,\n 'The Stylistics': 4,\n 'Tracey Thorn': 5,\n 'Young Marble Giants': 5,\n 'SHeDAISY': 19,\n 'Jo Dee Messina': 19,\n 'Shania Twain': 19,\n 'Faith Hill': 19,\n 'Dixie Chicks': 19,\n 'Deana Carter': 19,\n 'Joni Mitchell': 5,\n 'Lorrie Morgan': 19,\n 'McBride & the Ride': 19,\n 'Martina McBride': 19,\n 'Mindy McCready': 19,\n 'Trisha Yearwood': 19,\n 'Terri Clark': 19,\n 'Sarah McLachlan': 5,\n 'Mary Chapin Carpenter': 19,\n 'Static-X': 5,\n 'Fear Factory': 5,\n 'Filter': 5,\n 'Ministry': 5,\n 'White Zombie': 5,\n 'Shed Seven': 5,\n 'Oasis': 5,\n 'The Stone Roses': 5,\n 'Slam Stewart': 3,\n 'Charles Mingus': 3,\n 'Erskine Hawkins': 3,\n 'Lennie Tristano': 3,\n 'Thelonious Monk': 3,\n 'Milt Hinton': 3,\n 'Buddy Collette': 3,\n 'Amos Milburn': 0,\n 'Taproot': 5,\n 'Candlebox': 5,\n 'Slipknot': 5,\n 'Creed': 5,\n 'Deftones': 5,\n 'Spineshank': 5,\n 'Traffic': 5,\n 'Spin Doctors': 5,\n 'Ten Years After': 5,\n 'Steve Miller Band': 5,\n 'The Band': 5,\n 'Bob Weir': 5,\n 'Bootsy Collins': 4,\n 'Edgar Winter': 5,\n 'War': 4,\n 'Jorma Kaukonen': 5,\n 'Van Morrison': 5,\n 'Little Feat': 5,\n 'Quicksilver Messenger Service': 5,\n 'The Allman Brothers Band': 5,\n 'Graham Central Station': 4,\n 'Chic': 4,\n 'Spandau Ballet': 5,\n 'Be Bop Deluxe': 5,\n 'Gary Numan': 5,\n 'Japan': 5,\n 'Sam Cooke': 4,\n 'David Bowie': 5,\n 'Brian Eno': 5,\n 'David Essex': 5,\n 'Ultravox': 5,\n 'Roxy Music': 5,\n 'Bad Religion': 5,\n 'All': 5,\n 'Generation X': 5,\n 'Redd Kross': 5,\n 'Tracy Bonham': 5,\n 'Pat Benatar': 5,\n 'Liz Phair': 5,\n 'Hole': 5,\n 'Tori Amos': 5,\n 'Travis Tritt': 19,\n 'Tracy Byrd': 19,\n 'Keith Whitley': 19,\n 'Ricky Van Shelton': 19,\n 'Vince Gill': 19,\n 'Johnny Paycheck': 19,\n 'Sammy Kershaw': 19,\n 'Randy Travis': 19,\n 'Brooks & Dunn': 19,\n 'Alan Jackson': 19,\n 'Clint Black': 19,\n 'Garth Brooks': 19,\n 'George Strait': 19,\n 'Teena Marie': 4,\n 'Tara Kemp': 4,\n 'Ferlin Husky': 19,\n 'Sheb Wooley': 19,\n 'Grant Lee Buffalo': 5,\n 'Palace': 5,\n 'Sonny Landreth': 0,\n 'Tab Benoit': 0,\n 'Clarence \"Gatemouth\" Brown': 0,\n 'Dr. John': 5,\n 'Professor Longhair': 0,\n 'Albert Collins': 0,\n 'Albert King': 0,\n 'Stevie Ray Vaughan': 5,\n 'Buddy Guy': 0,\n 'American Head Charge': 5,\n 'Keith Jarrett': 3,\n 'Bob Dorough': 7,\n 'Horace Silver': 3,\n 'Stan Kenton': 3,\n 'Jay & the Americans': 5,\n 'Mose Allison': 3,\n 'Petula Clark': 5,\n 'Olivia Newton-John': 5,\n 'Anne Murray': 19,\n 'Helen Reddy': 7,\n 'Linda Ronstadt': 5,\n 'Stevie Nicks': 5,\n 'Kenny Burrell': 3,\n 'Stanley Jordan': 3,\n 'Carlos Santana': 5,\n 'Gabor Szabo': 3,\n 'George Benson': 3,\n 'Wes Montgomery': 3,\n 'Roy Buchanan': 0,\n 'All-4-One': 4,\n 'Bell Biv DeVoe': 4,\n 'Take 6': 2,\n 'Little Anthony & the Imperials': 4,\n 'The Tymes': 4,\n 'Guy': 4,\n 'The Chi-Lites': 4,\n 'Keith Sweat': 4,\n 'Hank Williams, Jr.': 19,\n 'Trace Adkins': 19,\n 'Waylon Jennings': 19,\n 'Ricky Skaggs': 19,\n 'Merle Haggard': 19,\n 'Mickey Gilley': 19,\n 'Daryle Singletary': 19,\n 'Dwight Yoakam': 19,\n 'John Mayall': 0,\n 'The Rascals': 5,\n 'Georgie Fame': 5,\n 'Yusef Lateef': 3,\n 'The Byrds': 5,\n 'The Animals': 5,\n 'Them': 5,\n 'Taylor Dayne': 5,\n 'Sister Carol': 8,\n 'Marcia Griffiths': 8,\n 'Everclear': 5,\n 'American Hi-Fi': 5,\n 'Tadd Dameron': 3,\n 'Stanley Turrentine': 3,\n 'Sonny Rollins': 3,\n 'Gene Ammons': 3,\n 'Don Byas': 3,\n 'Lowell Fulson': 0,\n 'Illinois Jacquet': 3,\n 'The Blues Brothers': 4,\n 'Cheech & Chong': 14,\n 'Twisted Sister': 5,\n 'Def Leppard': 5,\n 'Scorpions': 5,\n 'Status Quo': 5,\n 'The Rutles': 5,\n 'Stealers Wheel': 5,\n 'Soul Coughing': 5,\n 'TV on the Radio': 5,\n 'The Fall': 5,\n 'Frank Black': 5,\n 'Dinosaur Jr.': 5,\n 'Joy Division': 5,\n 'Public Image Ltd.': 5,\n 'Jan Hammer': 3,\n 'Peter Gabriel': 5,\n 'Thee Oh Sees': 5,\n \"The J.B.'s\": 4,\n 'Stanton Moore': 3,\n 'Idris Muhammad': 3,\n 'Marcus Miller': 3,\n 'Jimmy Smith': 3,\n \"Patrick O'Hearn\": 10,\n 'Kitaro': 10,\n 'Edgar Froese': 12,\n 'Harold Budd': 11,\n 'Rick Wakeman': 5,\n 'Mannheim Steamroller': 10,\n 'Liz Story': 10,\n 'Vangelis': 12,\n 'Gordon Lightfoot': 17,\n 'Stan Rogers': 17,\n 'Tom Paxton': 17,\n 'Patsy Cline': 19,\n 'Bobby Darin': 5,\n 'Eagles': 5,\n 'David Allan Coe': 19,\n 'Glen Campbell': 19,\n 'The Collins Kids': 5,\n 'Wanda Jackson': 5,\n 'Melba Montgomery': 19,\n 'Brenda Lee': 19,\n 'George Jones': 19,\n 'Paul Simon': 5,\n 'Shawn Colvin': 5,\n 'Bonnie Raitt': 5,\n 'Chris Smither': 5,\n 'Carly Simon': 5,\n 'Dusty Springfield': 5,\n 'Dan Fogelberg': 5,\n 'Carole King': 5,\n 'Fleetwood Mac': 5,\n 'Don Henley': 5,\n 'James Taylor': 5,\n 'Judee Sill': 5,\n 'Rosanne Cash': 19,\n 'Judy Collins': 17,\n 'Richard Thompson': 5,\n 'Rickie Lee Jones': 5,\n 'Willis Alan Ramsey': 5,\n 'The Roches': 17,\n 'John Hiatt': 5,\n 'Leon Russell': 5,\n 'Kate & Anna McGarrigle': 17,\n 'Dave Mason': 5,\n 'Solomon Burke': 4,\n 'Wilson Pickett': 4,\n 'The Isley Brothers': 4,\n 'Booker T. Jones': 4,\n 'Lee Dorsey': 4,\n 'Teenage Fanclub': 5,\n 'Travis': 5,\n 'Paul Weller': 5,\n 'Paul McCartney': 5,\n 'Supergrass': 5,\n 'Smashing Pumpkins': 5,\n 'The Lightning Seeds': 5,\n 'James': 5,\n 'Echo & the Bunnymen': 5,\n 'Ride': 5,\n 'Jeff Buckley': 5,\n 'Radiohead': 5,\n 'The Verve': 5,\n 'Feeder': 5,\n 'Del Amitri': 5,\n 'Manic Street Preachers': 5,\n 'Sister Rosetta Tharpe': 2,\n 'Muddy Waters': 0,\n 'Ella Mae Morse': 7,\n 'Shawn Mullins': 5,\n 'Stephen Stills': 5,\n 'Indigo Girls': 5,\n 'Kris Kristofferson': 19,\n 'Jim Croce': 5,\n 'Alan Parsons': 5,\n 'Starcastle': 5,\n 'Genesis': 5,\n 'Jon Anderson': 5,\n 'The Moody Blues': 5,\n 'Emerson, Lake & Palmer': 5,\n 'Eddie Fisher': 7,\n 'Tab Hunter': 5,\n 'The Guess Who': 5,\n 'Spirit of the West': 17,\n 'Crosby, Stills & Nash': 5,\n 'Fairport Convention': 5,\n 'The Clancy Brothers': 18,\n \"Chico O'Farrill\": 3,\n \"Paquito D'Rivera\": 3,\n 'Bebo ValdÃ©s': 13,\n 'Lee Konitz': 3,\n 'Oliver Nelson': 3,\n 'Tito Puente': 13,\n 'Shirley Caesar': 2,\n 'Tramaine Hawkins': 2,\n 'Kitty Wells': 19,\n 'The Maddox Brothers & Rose': 19,\n 'Red Foley': 19,\n 'Hank Williams': 19,\n 'Patti Page': 7,\n 'Eddy Arnold': 19,\n 'Roy Acuff': 19,\n 'Kay Starr': 7,\n 'Transvision Vamp': 5,\n 'Blondie': 5,\n 'The Clash': 5,\n 'Christy Moore': 18,\n 'Paul Brady': 5,\n 'Tommy Makem': 18,\n 'Trans-Siberian Orchestra': 6,\n 'Boston': 5,\n 'Enigma': 12,\n 'Rush': 5,\n 'Kansas': 5,\n 'Marillion': 5,\n 'Renaissance': 5,\n 'Sister Hazel': 5,\n 'Duran Duran': 5,\n 'Counting Crows': 5,\n 'Blues Traveler': 5,\n 'The Outlaws': 5,\n 'Styx': 5,\n 'Tracy Chapman': 5,\n 'Tasmin Archer': 4,\n 'Elvis Costello': 5,\n 'Taste': 5,\n 'SisqÃ³': 4,\n 'Blackstreet': 4,\n 'Bobby Brown': 4,\n 'Boyz II Men': 4,\n 'Michael Jackson': 4,\n 'Kenny Rogers': 19,\n 'Billy Joe Shaver': 19,\n 'Emmylou Harris': 19,\n 'Rodney Crowell': 19,\n 'David Frizzell': 19,\n 'Charlie Daniels': 19,\n 'Shaun Cassidy': 5,\n 'Television Personalities': 5,\n 'Badfinger': 5,\n 'The Clean': 5,\n 'Beat Happening': 5,\n \"Flamin' Groovies\": 5,\n 'Love': 5,\n 'The Jesus and Mary Chain': 5,\n 'The Only Ones': 5,\n 'Orange Juice': 5,\n 'The Pastels': 5,\n '1910 Fruitgum Company': 5,\n 'Moby Grape': 5,\n 'Wreckless Eric': 5,\n 'The Church': 5,\n 'Squeeze': 5,\n 'New York Dolls': 5,\n 'Buffalo Springfield': 5,\n 'Bill Withers': 4,\n 'Aloe Blacc': 4,\n 'Sevendust': 5,\n 'Amel Larrieux': 4,\n 'Anita Baker': 4,\n 'Tavares': 4,\n 'Andy Williams': 7,\n 'Tony Orlando': 5,\n 'Sweet Honey in the Rock': 2,\n 'Graham Nash': 5,\n 'Don McLean': 5,\n 'John Lennon': 5,\n 'Richie Havens': 17,\n 'Buffy Sainte-Marie': 17,\n 'Phoebe Snow': 5,\n 'Odetta': 17,\n 'The Action': 5,\n 'Small Faces': 5,\n 'The Move': 5,\n 'The Zombies': 5,\n 'The Blue Nile': 5,\n 'Alpha': 12,\n 'Jimmy Webb': 5,\n 'Portishead': 5,\n 'New Order': 5,\n 'Ennio Morricone': 1,\n 'James Cotton': 0,\n 'Paul Gonsalves': 3,\n 'Ben Webster': 3,\n 'King Tubby': 8,\n 'Alpha Blondy': 8,\n 'Barrington Levy': 8,\n 'Gregory Isaacs': 8,\n 'Peter Tosh': 8,\n 'Burning Spear': 8,\n 'Sly & Robbie': 8,\n 'Lee \"Scratch\" Perry': 8,\n 'Junior Murvin': 8,\n 'Tenacious D': 5,\n 'Dio': 5,\n \"Guns N' Roses\": 5,\n 'Ween': 5,\n 'Ronnie James Dio': 5,\n 'Neil Diamond': 5,\n 'Sixpence None the Richer': 5,\n 'The Innocence Mission': 5,\n \"The La's\": 5,\n 'Cowboy Junkies': 5,\n '10,000 Maniacs': 5,\n 'The Sundays': 5,\n 'The Cranberries': 5,\n 'Gladys Knight': 4,\n 'Patti LaBelle': 4,\n 'The Shangri-Las': 5,\n 'The Ronettes': 5,\n 'Darlene Love': 4,\n 'Tina Turner': 4,\n 'Doris Troy': 4,\n 'Ruth Brown': 4,\n 'Lorraine Ellison': 4,\n 'Sly & the Family Stone': 4,\n \"Terence Trent D'Arby\": 4,\n 'Billy Preston': 4,\n 'Al Green': 4,\n 'Commodores': 4,\n 'Cameo': 4,\n 'Teresa Brewer': 7,\n 'Patti Austin': 4,\n 'Eartha Kitt': 7,\n 'Tammi Terrell': 4,\n 'Carmen McRae': 7,\n 'Dinah Washington': 7,\n 'Nancy Wilson': 7,\n 'Quincy Jones': 3,\n 'Shirley Bassey': 7,\n 'Patti LuPone': 7,\n 'Ethel Merman': 7,\n 'Liza Minnelli': 7,\n 'Julie Andrews': 1,\n 'Kenny Clarke': 3,\n 'Paul Motian': 3,\n 'Joe Lovano': 3,\n 'Roy Haynes': 3,\n 'Bill Evans': 3,\n 'Philly Joe Jones': 3,\n 'Roger': 4,\n 'Teddy Riley': 4,\n 'Kim Weston': 4,\n 'Janis Ian': 5,\n 'Rufus': 4,\n 'Mary Wells': 4,\n 'Linda Jones': 4,\n 'Mike Oldfield': 10,\n 'Paul Hardcastle': 3,\n 'Paradise Lost': 5,\n 'Witchfinder General': 5,\n 'Bolt Thrower': 5,\n 'The Housemartins': 5,\n 'Stars': 5,\n 'The House of Love': 5,\n 'The Cure': 5,\n 'Pet Shop Boys': 5,\n 'The Lemonheads': 5,\n 'Thompson Twins': 5,\n 'Belly': 5,\n 'Saint Etienne': 5,\n 'The Human League': 5,\n 'Stars of the Lid': 5,\n 'Bette Midler': 7,\n 'Engelbert Humperdinck': 7,\n 'Lambert, Hendricks & Ross': 3,\n 'Pat Boone': 7,\n 'Peter Allen': 7,\n 'Neil Sedaka': 5,\n 'Mel TormÃ©': 7,\n 'Paul Anka': 5,\n 'Steve Lawrence': 7,\n 'Frankie Valli': 5,\n 'Liberace': 15,\n 'Tad': 5,\n 'Ambrosia': 5,\n 'Crystal Gayle': 19,\n 'Jeannie C. Riley': 19,\n 'Kathy Mattea': 19,\n 'Reba McEntire': 19,\n 'Hazel Dickens': 17,\n 'Delbert McClinton': 0,\n 'Juice Newton': 19,\n 'June Carter Cash': 19,\n \"The Lovin' Spoonful\": 17,\n 'The Hollies': 5,\n 'Peter, Paul and Mary': 17,\n 'John Sebastian': 5,\n 'Dillard & Clark': 19,\n '...And You Will Know Us by the Trail of Dead': 5,\n 'Television': 5,\n 'Swans': 5,\n 'The Birthday Party': 5,\n 'Blonde Redhead': 5,\n 'Unwound': 5,\n 'Mission of Burma': 5,\n 'Butthole Surfers': 5,\n 'Slint': 5,\n 'Elvin Jones': 3,\n 'Shelly Manne': 3,\n 'Don Lamond': 3,\n 'John Cale': 5,\n 'Lou Reed': 5,\n 'Roky Erickson': 5,\n 'The 13th Floor Elevators': 5,\n 'Albert Ayler': 3,\n 'The Fugs': 5,\n 'Brandy': 4,\n 'Amerie': 4,\n 'Skunk Anansie': 5,\n 'Chumbawamba': 5,\n 'Tears for Fears': 5,\n 'Bauhaus': 5,\n 'Van der Graaf Generator': 5,\n 'Slade': 5,\n 'Kate Bush': 5,\n 'Ray Barretto': 13,\n 'Sheila E.': 4,\n 'Mongo Santamaria': 13,\n 'Willie Bobo': 13,\n 'Sky': 5,\n 'Slim Harpo': 0,\n 'B.B. King': 0,\n 'Jimmy Reed': 0,\n \"Howlin' Wolf\": 0,\n 'Bobby \"Blue\" Bland': 0,\n 'Teddy Pendergrass': 4,\n 'Jimmy Witherspoon': 0,\n 'Jackie Wilson': 4,\n 'Clarence Carter': 4,\n 'Ben E. King': 4,\n 'Eddie Floyd': 4,\n 'Johnnie Taylor': 4,\n 'Lou Rawls': 4,\n 'O.V. Wright': 4,\n 'Percy Sledge': 4,\n 'Tom Lehrer': 14,\n 'Shel Silverstein': 17,\n ...}"
     },
     "execution_count": 68,
     "metadata": {},
     "output_type": "execute_result"
    }
   ],
   "source": [
    "# mmp={}\n",
    "# for i in range(5602):\n",
    "#     flag=0\n",
    "#     for j in range(len(data)):\n",
    "#         if data['inf_id'][j]==i:\n",
    "#             mmp[i]=data['influencer_main_genre']\n",
    "#             break\n",
    "#         elif data['flw_id'][j]==i:\n",
    "#             mmp[i]=data['follower_main_genre']\n",
    "#             break\n",
    "# mmp\n",
    "mmp={}\n",
    "for i in range(len(data)):\n",
    "    mmp[data['influencer_name'][i]]=genre_map[data['influencer_main_genre'][i]]\n",
    "    mmp[data['follower_name'][i]]=genre_map[data['follower_main_genre'][i]]\n",
    "mmp"
   ]
  },
  {
   "cell_type": "code",
   "execution_count": 77,
   "outputs": [
    {
     "data": {
      "text/plain": "       name\ngenre      \n0       100\n1        50\n2        88\n3       402\n4       676\n5      2787\n6        28\n7       162\n8       141\n9         4\n10       38\n11        9\n12      206\n13      229\n14       46\n15       23\n16        3\n17       95\n18       79\n19      402",
      "text/html": "<div>\n<style scoped>\n    .dataframe tbody tr th:only-of-type {\n        vertical-align: middle;\n    }\n\n    .dataframe tbody tr th {\n        vertical-align: top;\n    }\n\n    .dataframe thead th {\n        text-align: right;\n    }\n</style>\n<table border=\"1\" class=\"dataframe\">\n  <thead>\n    <tr style=\"text-align: right;\">\n      <th></th>\n      <th>name</th>\n    </tr>\n    <tr>\n      <th>genre</th>\n      <th></th>\n    </tr>\n  </thead>\n  <tbody>\n    <tr>\n      <th>0</th>\n      <td>100</td>\n    </tr>\n    <tr>\n      <th>1</th>\n      <td>50</td>\n    </tr>\n    <tr>\n      <th>2</th>\n      <td>88</td>\n    </tr>\n    <tr>\n      <th>3</th>\n      <td>402</td>\n    </tr>\n    <tr>\n      <th>4</th>\n      <td>676</td>\n    </tr>\n    <tr>\n      <th>5</th>\n      <td>2787</td>\n    </tr>\n    <tr>\n      <th>6</th>\n      <td>28</td>\n    </tr>\n    <tr>\n      <th>7</th>\n      <td>162</td>\n    </tr>\n    <tr>\n      <th>8</th>\n      <td>141</td>\n    </tr>\n    <tr>\n      <th>9</th>\n      <td>4</td>\n    </tr>\n    <tr>\n      <th>10</th>\n      <td>38</td>\n    </tr>\n    <tr>\n      <th>11</th>\n      <td>9</td>\n    </tr>\n    <tr>\n      <th>12</th>\n      <td>206</td>\n    </tr>\n    <tr>\n      <th>13</th>\n      <td>229</td>\n    </tr>\n    <tr>\n      <th>14</th>\n      <td>46</td>\n    </tr>\n    <tr>\n      <th>15</th>\n      <td>23</td>\n    </tr>\n    <tr>\n      <th>16</th>\n      <td>3</td>\n    </tr>\n    <tr>\n      <th>17</th>\n      <td>95</td>\n    </tr>\n    <tr>\n      <th>18</th>\n      <td>79</td>\n    </tr>\n    <tr>\n      <th>19</th>\n      <td>402</td>\n    </tr>\n  </tbody>\n</table>\n</div>"
     },
     "execution_count": 77,
     "metadata": {},
     "output_type": "execute_result"
    }
   ],
   "source": [
    "# store mmp\n",
    "# f = open('art_gen_map.csv','a+')\n",
    "# for i in mmp.keys():\n",
    "#     f.write(i + \",%d\"%mmp[i]+ \"\\n\")\n",
    "# f.close()\n",
    "cnm = pd.DataFrame({'name':list(mmp.keys()),'genre':list(mmp.values())})\n",
    "cnm.groupby('genre').count()"
   ],
   "metadata": {
    "collapsed": false,
    "pycharm": {
     "name": "#%%\n"
    }
   }
  },
  {
   "cell_type": "code",
   "execution_count": 64,
   "metadata": {
    "ExecuteTime": {
     "end_time": "2021-02-05T14:00:52.670386Z",
     "start_time": "2021-02-05T14:00:51.498823Z"
    }
   },
   "outputs": [],
   "source": [
    "nodes=[]\n",
    "for i in set(data['influencer_name'])|set(data['follower_name']):\n",
    "    nodes.append(opts.GraphNode(name=i,category=mmp[i]))\n",
    "links = []\n",
    "for i in range(len(data)):\n",
    "    links.append(opts.GraphLink(source=data['influencer_name'][i],target=data['follower_name'][i]\n",
    "#                                 ,value=genre_map[data['influencer_main_genre'][i]]))\n",
    "                               )\n",
    "                )\n",
    "categories = []\n",
    "for i in sorted(genre_map.items(),key=lambda x:x[1]):\n",
    "    categories.append(opts.GraphCategory(name=i[0]))"
   ]
  },
  {
   "cell_type": "code",
   "execution_count": 78,
   "metadata": {
    "ExecuteTime": {
     "end_time": "2021-02-05T14:01:09.765116Z",
     "start_time": "2021-02-05T14:01:09.085717Z"
    }
   },
   "outputs": [
    {
     "name": "stderr",
     "output_type": "stream",
     "text": [
      "/home/hjy/.local/lib/python3.6/site-packages/pyecharts/charts/chart.py:14: PendingDeprecationWarning: pyecharts 所有图表类型将在 v1.9.0 版本开始强制使用 ChartItem 进行数据项配置 :)\n",
      "  super().__init__(init_opts=init_opts)\n"
     ]
    },
    {
     "data": {
      "text/plain": "'/home/hjy/桌面/2021_MCM_ICM/hhh.html'"
     },
     "execution_count": 78,
     "metadata": {},
     "output_type": "execute_result"
    }
   ],
   "source": [
    "graph = Graph()\n",
    "graph.add(\"\",\n",
    "         nodes=nodes,\n",
    "         links=links,\n",
    "         repulsion=500,\n",
    "          categories=categories,\n",
    "#           is_focusnode=True,\n",
    "#           is_roam=True,\n",
    "          label_opts=opts.LabelOpts(is_show=False)\n",
    "         )\n",
    "graph.set_global_opts(\n",
    "#     visualmap_opts=opts.VisualMapOpts(\n",
    "#         is_piecewise=True,\n",
    "# #         pieces=pieces\n",
    "#     )\n",
    ")\n",
    "graph.render('hhh.html')"
   ]
  },
  {
   "cell_type": "code",
   "execution_count": 6,
   "metadata": {
    "ExecuteTime": {
     "end_time": "2021-02-05T11:15:35.454153Z",
     "start_time": "2021-02-05T11:15:35.437410Z"
    }
   },
   "outputs": [],
   "source": []
  },
  {
   "cell_type": "code",
   "execution_count": 7,
   "metadata": {
    "ExecuteTime": {
     "end_time": "2021-02-05T11:16:54.987969Z",
     "start_time": "2021-02-05T11:16:54.744886Z"
    }
   },
   "outputs": [],
   "source": []
  },
  {
   "cell_type": "code",
   "execution_count": 8,
   "metadata": {
    "ExecuteTime": {
     "end_time": "2021-02-05T04:06:19.722036Z",
     "start_time": "2021-02-05T04:06:19.712529Z"
    }
   },
   "outputs": [
    {
     "name": "stdout",
     "output_type": "stream",
     "text": [
      "{'kone', 'kfive', 'kthree', 'ktwo'}\n"
     ]
    }
   ],
   "source": [
    "# states_needed = set(['北京', '上海', '广州', '深圳', '杭州', '南京', '石家庄', '银川'])\n",
    "\n",
    "# stations = {}\n",
    "# stations['kone'] = set(['北京', '上海', '广州'])\n",
    "# stations['ktwo'] = set(['北京''杭州', '南京'])\n",
    "# stations['kthree'] = set(['广州', '深圳', '杭州'])\n",
    "# stations['kfour'] = set(['北京', '银川'])\n",
    "# stations['kfive'] = set(['石家庄', '银川'])\n",
    "\n",
    "# final_stations = set()\n",
    "\n",
    "# while states_needed:\n",
    "#         best_station = None\n",
    "#         states_covered = set()\n",
    "#         for station, states in stations.items():\n",
    "#                 covered = states_needed & states\n",
    "#                 if len(covered) > len(states_covered):\n",
    "#                         best_station = station\n",
    "#                         states_covered = covered\n",
    "#         states_needed -= states_covered\n",
    "#         final_stations.add(best_station)\n",
    "\n",
    "# print(final_stations)"
   ]
  },
  {
   "cell_type": "code",
   "execution_count": 23,
   "metadata": {
    "ExecuteTime": {
     "end_time": "2021-02-05T11:31:37.482303Z",
     "start_time": "2021-02-05T11:31:37.469124Z"
    }
   },
   "outputs": [],
   "source": [
    "j = 0\n",
    "f = open('genremap.csv','a+')\n",
    "for i in set(data['influencer_main_genre'])|set(data['influencer_main_genre']):\n",
    "    f.write(\"%s,%d\\n\"%(i,j))\n",
    "    j+=1\n",
    "f.close()"
   ]
  },
  {
   "cell_type": "code",
   "execution_count": 79,
   "metadata": {},
   "outputs": [
    {
     "name": "stderr",
     "output_type": "stream",
     "text": [
      "/usr/lib/python3.6/importlib/_bootstrap.py:219: RuntimeWarning: numpy.ufunc size changed, may indicate binary incompatibility. Expected 192 from C header, got 216 from PyObject\n",
      "  return f(*args, **kwds)\n",
      "/usr/lib/python3.6/importlib/_bootstrap.py:219: RuntimeWarning: numpy.ufunc size changed, may indicate binary incompatibility. Expected 192 from C header, got 216 from PyObject\n",
      "  return f(*args, **kwds)\n",
      "/usr/lib/python3.6/importlib/_bootstrap.py:219: RuntimeWarning: numpy.ufunc size changed, may indicate binary incompatibility. Expected 192 from C header, got 216 from PyObject\n",
      "  return f(*args, **kwds)\n",
      "/usr/lib/python3.6/importlib/_bootstrap.py:219: RuntimeWarning: numpy.ufunc size changed, may indicate binary incompatibility. Expected 192 from C header, got 216 from PyObject\n",
      "  return f(*args, **kwds)\n"
     ]
    },
    {
     "data": {
      "text/plain": "[(0.12156862745098039, 0.4666666666666667, 0.7058823529411765),\n (1.0, 0.4980392156862745, 0.054901960784313725),\n (0.17254901960784313, 0.6274509803921569, 0.17254901960784313),\n (0.8392156862745098, 0.15294117647058825, 0.1568627450980392),\n (0.5803921568627451, 0.403921568627451, 0.7411764705882353),\n (0.5490196078431373, 0.33725490196078434, 0.29411764705882354),\n (0.8901960784313725, 0.4666666666666667, 0.7607843137254902),\n (0.4980392156862745, 0.4980392156862745, 0.4980392156862745),\n (0.7372549019607844, 0.7411764705882353, 0.13333333333333333),\n (0.09019607843137255, 0.7450980392156863, 0.8117647058823529)]",
      "text/html": "<svg  width=\"550\" height=\"55\"><rect x=\"0\" y=\"0\" width=\"55\" height=\"55\" style=\"fill:#1f77b4;stroke-width:2;stroke:rgb(255,255,255)\"/><rect x=\"55\" y=\"0\" width=\"55\" height=\"55\" style=\"fill:#ff7f0e;stroke-width:2;stroke:rgb(255,255,255)\"/><rect x=\"110\" y=\"0\" width=\"55\" height=\"55\" style=\"fill:#2ca02c;stroke-width:2;stroke:rgb(255,255,255)\"/><rect x=\"165\" y=\"0\" width=\"55\" height=\"55\" style=\"fill:#d62728;stroke-width:2;stroke:rgb(255,255,255)\"/><rect x=\"220\" y=\"0\" width=\"55\" height=\"55\" style=\"fill:#9467bd;stroke-width:2;stroke:rgb(255,255,255)\"/><rect x=\"275\" y=\"0\" width=\"55\" height=\"55\" style=\"fill:#8c564b;stroke-width:2;stroke:rgb(255,255,255)\"/><rect x=\"330\" y=\"0\" width=\"55\" height=\"55\" style=\"fill:#e377c2;stroke-width:2;stroke:rgb(255,255,255)\"/><rect x=\"385\" y=\"0\" width=\"55\" height=\"55\" style=\"fill:#7f7f7f;stroke-width:2;stroke:rgb(255,255,255)\"/><rect x=\"440\" y=\"0\" width=\"55\" height=\"55\" style=\"fill:#bcbd22;stroke-width:2;stroke:rgb(255,255,255)\"/><rect x=\"495\" y=\"0\" width=\"55\" height=\"55\" style=\"fill:#17becf;stroke-width:2;stroke:rgb(255,255,255)\"/></svg>"
     },
     "execution_count": 79,
     "metadata": {},
     "output_type": "execute_result"
    }
   ],
   "source": [
    "import seaborn as sns\n",
    "sns.color_palette(n_colors=10)\n"
   ]
  },
  {
   "cell_type": "code",
   "execution_count": 98,
   "outputs": [
    {
     "data": {
      "text/plain": "<Figure size 864x576 with 1 Axes>",
      "image/png": "[encoded data removed]"
     },
     "metadata": {
      "needs_background": "light"
     },
     "output_type": "display_data"
    }
   ],
   "source": [
    "import matplotlib.pyplot as plt\n",
    "plt.figure(figsize=(12,8))\n",
    "colors = sns.color_palette('muted').as_hex()\n",
    "for i in range(len(colors)):\n",
    "    plt.scatter(i*8,1,c=colors[i],s=3200,alpha=0.5)\n",
    "plt.savefig('colorpalette.jpg')\n"
   ],
   "metadata": {
    "collapsed": false,
    "pycharm": {
     "name": "#%%\n"
    }
   }
  },
  {
   "cell_type": "code",
   "execution_count": null,
   "outputs": [],
   "source": [],
   "metadata": {
    "collapsed": false,
    "pycharm": {
     "name": "#%%\n"
    }
   }
  }
 ],
 "metadata": {
  "kernelspec": {
   "name": "pycharm-f6d9f65c",
   "language": "python",
   "display_name": "PyCharm (2020-11-16)"
  },
  "language_info": {
   "codemirror_mode": {
    "name": "ipython",
    "version": 3
   },
   "file_extension": ".py",
   "mimetype": "text/x-python",
   "name": "python",
   "nbconvert_exporter": "python",
   "pygments_lexer": "ipython3",
   "version": "3.6.9"
  },
  "toc": {
   "base_numbering": 1,
   "nav_menu": {},
   "number_sections": true,
   "sideBar": true,
   "skip_h1_title": false,
   "title_cell": "Table of Contents",
   "title_sidebar": "Contents",
   "toc_cell": false,
   "toc_position": {},
   "toc_section_display": true,
   "toc_window_display": false
  },
  "varInspector": {
   "cols": {
    "lenName": 16,
    "lenType": 16,
    "lenVar": 40
   },
   "kernels_config": {
    "python": {
     "delete_cmd_postfix": "",
     "delete_cmd_prefix": "del ",
     "library": "var_list.py",
     "varRefreshCmd": "print(var_dic_list())"
    },
    "r": {
     "delete_cmd_postfix": ") ",
     "delete_cmd_prefix": "rm(",
     "library": "var_list.r",
     "varRefreshCmd": "cat(var_dic_list()) "
    }
   },
   "types_to_exclude": [
    "module",
    "function",
    "builtin_function_or_method",
    "instance",
    "_Feature"
   ],
   "window_display": false
  }
 },
 "nbformat": 4,
 "nbformat_minor": 4
}