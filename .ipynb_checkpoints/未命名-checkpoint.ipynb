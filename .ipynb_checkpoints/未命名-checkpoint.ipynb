{
 "cells": [
  {
   "cell_type": "code",
   "execution_count": 5,
   "metadata": {
    "ExecuteTime": {
     "end_time": "2021-02-05T11:15:33.175171Z",
     "start_time": "2021-02-05T11:15:33.171612Z"
    }
   },
   "outputs": [],
   "source": [
    "import pandas as pd\n",
    "from pyecharts.charts import Graph\n",
    "from pyecharts import options as opts"
   ]
  },
  {
   "cell_type": "code",
   "execution_count": 2,
   "metadata": {
    "ExecuteTime": {
     "end_time": "2021-02-05T11:11:49.755732Z",
     "start_time": "2021-02-05T11:11:49.681249Z"
    }
   },
   "outputs": [
    {
     "data": {
      "text/html": [
       "<div>\n",
       "<style scoped>\n",
       "    .dataframe tbody tr th:only-of-type {\n",
       "        vertical-align: middle;\n",
       "    }\n",
       "\n",
       "    .dataframe tbody tr th {\n",
       "        vertical-align: top;\n",
       "    }\n",
       "\n",
       "    .dataframe thead th {\n",
       "        text-align: right;\n",
       "    }\n",
       "</style>\n",
       "<table border=\"1\" class=\"dataframe\">\n",
       "  <thead>\n",
       "    <tr style=\"text-align: right;\">\n",
       "      <th></th>\n",
       "      <th>inf_id</th>\n",
       "      <th>influencer_id</th>\n",
       "      <th>influencer_name</th>\n",
       "      <th>influencer_main_genre</th>\n",
       "      <th>influencer_active_start</th>\n",
       "      <th>flw_id</th>\n",
       "      <th>follower_id</th>\n",
       "      <th>follower_name</th>\n",
       "      <th>follower_main_genre</th>\n",
       "      <th>follower_active_start</th>\n",
       "    </tr>\n",
       "  </thead>\n",
       "  <tbody>\n",
       "    <tr>\n",
       "      <th>0</th>\n",
       "      <td>4010</td>\n",
       "      <td>759491</td>\n",
       "      <td>The Exploited</td>\n",
       "      <td>Pop/Rock</td>\n",
       "      <td>1980</td>\n",
       "      <td>0</td>\n",
       "      <td>74</td>\n",
       "      <td>Special Duties</td>\n",
       "      <td>Pop/Rock</td>\n",
       "      <td>1980</td>\n",
       "    </tr>\n",
       "    <tr>\n",
       "      <th>1</th>\n",
       "      <td>219</td>\n",
       "      <td>25462</td>\n",
       "      <td>Tricky</td>\n",
       "      <td>Electronic</td>\n",
       "      <td>1990</td>\n",
       "      <td>1</td>\n",
       "      <td>335</td>\n",
       "      <td>PJ Harvey</td>\n",
       "      <td>Pop/Rock</td>\n",
       "      <td>1990</td>\n",
       "    </tr>\n",
       "    <tr>\n",
       "      <th>2</th>\n",
       "      <td>559</td>\n",
       "      <td>66915</td>\n",
       "      <td>Bob Dylan</td>\n",
       "      <td>Pop/Rock</td>\n",
       "      <td>1960</td>\n",
       "      <td>1</td>\n",
       "      <td>335</td>\n",
       "      <td>PJ Harvey</td>\n",
       "      <td>Pop/Rock</td>\n",
       "      <td>1990</td>\n",
       "    </tr>\n",
       "    <tr>\n",
       "      <th>3</th>\n",
       "      <td>590</td>\n",
       "      <td>71209</td>\n",
       "      <td>Leonard Cohen</td>\n",
       "      <td>Pop/Rock</td>\n",
       "      <td>1950</td>\n",
       "      <td>1</td>\n",
       "      <td>335</td>\n",
       "      <td>PJ Harvey</td>\n",
       "      <td>Pop/Rock</td>\n",
       "      <td>1990</td>\n",
       "    </tr>\n",
       "    <tr>\n",
       "      <th>4</th>\n",
       "      <td>762</td>\n",
       "      <td>91438</td>\n",
       "      <td>The Gun Club</td>\n",
       "      <td>Pop/Rock</td>\n",
       "      <td>1980</td>\n",
       "      <td>1</td>\n",
       "      <td>335</td>\n",
       "      <td>PJ Harvey</td>\n",
       "      <td>Pop/Rock</td>\n",
       "      <td>1990</td>\n",
       "    </tr>\n",
       "    <tr>\n",
       "      <th>...</th>\n",
       "      <td>...</td>\n",
       "      <td>...</td>\n",
       "      <td>...</td>\n",
       "      <td>...</td>\n",
       "      <td>...</td>\n",
       "      <td>...</td>\n",
       "      <td>...</td>\n",
       "      <td>...</td>\n",
       "      <td>...</td>\n",
       "      <td>...</td>\n",
       "    </tr>\n",
       "    <tr>\n",
       "      <th>42765</th>\n",
       "      <td>3302</td>\n",
       "      <td>580300</td>\n",
       "      <td>Sufjan Stevens</td>\n",
       "      <td>Pop/Rock</td>\n",
       "      <td>1990</td>\n",
       "      <td>5601</td>\n",
       "      <td>3661738</td>\n",
       "      <td>Rosemary &amp; Garlic</td>\n",
       "      <td>Pop/Rock</td>\n",
       "      <td>2010</td>\n",
       "    </tr>\n",
       "    <tr>\n",
       "      <th>42766</th>\n",
       "      <td>2081</td>\n",
       "      <td>261309</td>\n",
       "      <td>Vybz Kartel</td>\n",
       "      <td>Reggae</td>\n",
       "      <td>2000</td>\n",
       "      <td>5602</td>\n",
       "      <td>3670556</td>\n",
       "      <td>Trinidad Cardona</td>\n",
       "      <td>R&amp;B;</td>\n",
       "      <td>2010</td>\n",
       "    </tr>\n",
       "    <tr>\n",
       "      <th>42767</th>\n",
       "      <td>2837</td>\n",
       "      <td>467203</td>\n",
       "      <td>Michael Jackson</td>\n",
       "      <td>R&amp;B;</td>\n",
       "      <td>1960</td>\n",
       "      <td>5602</td>\n",
       "      <td>3670556</td>\n",
       "      <td>Trinidad Cardona</td>\n",
       "      <td>R&amp;B;</td>\n",
       "      <td>2010</td>\n",
       "    </tr>\n",
       "    <tr>\n",
       "      <th>42768</th>\n",
       "      <td>5374</td>\n",
       "      <td>2518003</td>\n",
       "      <td>Popcaan</td>\n",
       "      <td>Reggae</td>\n",
       "      <td>2000</td>\n",
       "      <td>5602</td>\n",
       "      <td>3670556</td>\n",
       "      <td>Trinidad Cardona</td>\n",
       "      <td>R&amp;B;</td>\n",
       "      <td>2010</td>\n",
       "    </tr>\n",
       "    <tr>\n",
       "      <th>42769</th>\n",
       "      <td>5446</td>\n",
       "      <td>2896351</td>\n",
       "      <td>Tommy Lee</td>\n",
       "      <td>Reggae</td>\n",
       "      <td>2000</td>\n",
       "      <td>5602</td>\n",
       "      <td>3670556</td>\n",
       "      <td>Trinidad Cardona</td>\n",
       "      <td>R&amp;B;</td>\n",
       "      <td>2010</td>\n",
       "    </tr>\n",
       "  </tbody>\n",
       "</table>\n",
       "<p>42770 rows × 10 columns</p>\n",
       "</div>"
      ],
      "text/plain": [
       "       inf_id  influencer_id  influencer_name influencer_main_genre  \\\n",
       "0        4010         759491    The Exploited              Pop/Rock   \n",
       "1         219          25462           Tricky            Electronic   \n",
       "2         559          66915        Bob Dylan              Pop/Rock   \n",
       "3         590          71209    Leonard Cohen              Pop/Rock   \n",
       "4         762          91438     The Gun Club              Pop/Rock   \n",
       "...       ...            ...              ...                   ...   \n",
       "42765    3302         580300   Sufjan Stevens              Pop/Rock   \n",
       "42766    2081         261309      Vybz Kartel                Reggae   \n",
       "42767    2837         467203  Michael Jackson                  R&B;   \n",
       "42768    5374        2518003          Popcaan                Reggae   \n",
       "42769    5446        2896351        Tommy Lee                Reggae   \n",
       "\n",
       "       influencer_active_start  flw_id  follower_id      follower_name  \\\n",
       "0                         1980       0           74     Special Duties   \n",
       "1                         1990       1          335          PJ Harvey   \n",
       "2                         1960       1          335          PJ Harvey   \n",
       "3                         1950       1          335          PJ Harvey   \n",
       "4                         1980       1          335          PJ Harvey   \n",
       "...                        ...     ...          ...                ...   \n",
       "42765                     1990    5601      3661738  Rosemary & Garlic   \n",
       "42766                     2000    5602      3670556   Trinidad Cardona   \n",
       "42767                     1960    5602      3670556   Trinidad Cardona   \n",
       "42768                     2000    5602      3670556   Trinidad Cardona   \n",
       "42769                     2000    5602      3670556   Trinidad Cardona   \n",
       "\n",
       "      follower_main_genre  follower_active_start  \n",
       "0                Pop/Rock                   1980  \n",
       "1                Pop/Rock                   1990  \n",
       "2                Pop/Rock                   1990  \n",
       "3                Pop/Rock                   1990  \n",
       "4                Pop/Rock                   1990  \n",
       "...                   ...                    ...  \n",
       "42765            Pop/Rock                   2010  \n",
       "42766                R&B;                   2010  \n",
       "42767                R&B;                   2010  \n",
       "42768                R&B;                   2010  \n",
       "42769                R&B;                   2010  \n",
       "\n",
       "[42770 rows x 10 columns]"
      ]
     },
     "execution_count": 2,
     "metadata": {},
     "output_type": "execute_result"
    }
   ],
   "source": [
    "data = pd.read_csv(\"data/influence_data.csv\")\n",
    "data"
   ]
  },
  {
   "cell_type": "code",
   "execution_count": 5,
   "metadata": {
    "ExecuteTime": {
     "end_time": "2021-02-05T00:37:44.938871Z",
     "start_time": "2021-02-05T00:37:44.924688Z"
    }
   },
   "outputs": [],
   "source": [
    "iftofl = data[['influencer_id','follower_id']]"
   ]
  },
  {
   "cell_type": "code",
   "execution_count": null,
   "metadata": {},
   "outputs": [],
   "source": []
  },
  {
   "cell_type": "code",
   "execution_count": null,
   "metadata": {},
   "outputs": [],
   "source": [
    "nodes=[]\n",
    "for i in set(data['influencer_name'])|set(data['follower_name']):\n",
    "    nodes.append(opts.GraphNode(name=i))\n",
    "links = []\n",
    "for i in range(len(data)):\n",
    "    links.append(opts.GraphLink(source=data['influencer_name'],target=data['follower_name']))"
   ]
  },
  {
   "cell_type": "code",
   "execution_count": 17,
   "metadata": {
    "ExecuteTime": {
     "end_time": "2021-02-05T11:26:50.014174Z",
     "start_time": "2021-02-05T11:26:47.177928Z"
    }
   },
   "outputs": [
    {
     "name": "stderr",
     "output_type": "stream",
     "text": [
      "/home/hjy/.local/lib/python3.6/site-packages/pyecharts/charts/chart.py:14: PendingDeprecationWarning: pyecharts 所有图表类型将在 v1.9.0 版本开始强制使用 ChartItem 进行数据项配置 :)\n",
      "  super().__init__(init_opts=init_opts)\n"
     ]
    },
    {
     "data": {
      "text/plain": [
       "'/home/hjy/桌面/2021_MCM_ICM/hhh.html'"
      ]
     },
     "execution_count": 17,
     "metadata": {},
     "output_type": "execute_result"
    }
   ],
   "source": [
    "graph = Graph()\n",
    "graph.add(\"\",\n",
    "         nodes=nodes,\n",
    "         links=links,\n",
    "         repulsion=50,\n",
    "          is_focusnode=True\n",
    "         )\n",
    "# graph.set_global_opts(\n",
    "#     visualmap_opts=opts.VisualMapOpts(\n",
    "#         is_piecewise=True,\n",
    "# #         pieces=pieces\n",
    "#     )\n",
    "# )\n",
    "graph.render('hhh.html')"
   ]
  },
  {
   "cell_type": "code",
   "execution_count": 6,
   "metadata": {
    "ExecuteTime": {
     "end_time": "2021-02-05T11:15:35.454153Z",
     "start_time": "2021-02-05T11:15:35.437410Z"
    }
   },
   "outputs": [],
   "source": []
  },
  {
   "cell_type": "code",
   "execution_count": 7,
   "metadata": {
    "ExecuteTime": {
     "end_time": "2021-02-05T11:16:54.987969Z",
     "start_time": "2021-02-05T11:16:54.744886Z"
    }
   },
   "outputs": [],
   "source": []
  },
  {
   "cell_type": "code",
   "execution_count": 8,
   "metadata": {
    "ExecuteTime": {
     "end_time": "2021-02-05T04:06:19.722036Z",
     "start_time": "2021-02-05T04:06:19.712529Z"
    }
   },
   "outputs": [
    {
     "name": "stdout",
     "output_type": "stream",
     "text": [
      "{'kone', 'kfive', 'kthree', 'ktwo'}\n"
     ]
    }
   ],
   "source": [
    "# states_needed = set(['北京', '上海', '广州', '深圳', '杭州', '南京', '石家庄', '银川'])\n",
    "\n",
    "# stations = {}\n",
    "# stations['kone'] = set(['北京', '上海', '广州'])\n",
    "# stations['ktwo'] = set(['北京''杭州', '南京'])\n",
    "# stations['kthree'] = set(['广州', '深圳', '杭州'])\n",
    "# stations['kfour'] = set(['北京', '银川'])\n",
    "# stations['kfive'] = set(['石家庄', '银川'])\n",
    "\n",
    "# final_stations = set()\n",
    "\n",
    "# while states_needed:\n",
    "#         best_station = None\n",
    "#         states_covered = set()\n",
    "#         for station, states in stations.items():\n",
    "#                 covered = states_needed & states\n",
    "#                 if len(covered) > len(states_covered):\n",
    "#                         best_station = station\n",
    "#                         states_covered = covered\n",
    "#         states_needed -= states_covered\n",
    "#         final_stations.add(best_station)\n",
    "\n",
    "# print(final_stations)"
   ]
  },
  {
   "cell_type": "code",
   "execution_count": 23,
   "metadata": {
    "ExecuteTime": {
     "end_time": "2021-02-05T11:31:37.482303Z",
     "start_time": "2021-02-05T11:31:37.469124Z"
    }
   },
   "outputs": [],
   "source": [
    "j = 0\n",
    "f = open('genremap.csv','a+')\n",
    "for i in set(data['influencer_main_genre'])|set(data['influencer_main_genre']):\n",
    "    f.write(\"%s,%d\\n\"%(i,j))\n",
    "    j+=1\n",
    "f.close()"
   ]
  },
  {
   "cell_type": "code",
   "execution_count": null,
   "metadata": {},
   "outputs": [],
   "source": []
  }
 ],
 "metadata": {
  "kernelspec": {
   "display_name": "Python 3",
   "language": "python",
   "name": "python3"
  },
  "language_info": {
   "codemirror_mode": {
    "name": "ipython",
    "version": 3
   },
   "file_extension": ".py",
   "mimetype": "text/x-python",
   "name": "python",
   "nbconvert_exporter": "python",
   "pygments_lexer": "ipython3",
   "version": "3.6.9"
  },
  "toc": {
   "base_numbering": 1,
   "nav_menu": {},
   "number_sections": true,
   "sideBar": true,
   "skip_h1_title": false,
   "title_cell": "Table of Contents",
   "title_sidebar": "Contents",
   "toc_cell": false,
   "toc_position": {},
   "toc_section_display": true,
   "toc_window_display": false
  },
  "varInspector": {
   "cols": {
    "lenName": 16,
    "lenType": 16,
    "lenVar": 40
   },
   "kernels_config": {
    "python": {
     "delete_cmd_postfix": "",
     "delete_cmd_prefix": "del ",
     "library": "var_list.py",
     "varRefreshCmd": "print(var_dic_list())"
    },
    "r": {
     "delete_cmd_postfix": ") ",
     "delete_cmd_prefix": "rm(",
     "library": "var_list.r",
     "varRefreshCmd": "cat(var_dic_list()) "
    }
   },
   "types_to_exclude": [
    "module",
    "function",
    "builtin_function_or_method",
    "instance",
    "_Feature"
   ],
   "window_display": false
  }
 },
 "nbformat": 4,
 "nbformat_minor": 4
}
