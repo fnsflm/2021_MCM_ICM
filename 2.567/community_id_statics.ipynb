{
 "cells": [
  {
   "cell_type": "code",
   "execution_count": 19,
   "metadata": {
    "collapsed": true
   },
   "outputs": [
    {
     "data": {
      "text/plain": "        id  community_id       genre\n0        0             0    Pop/Rock\n1        1             0    Pop/Rock\n2        2             0    Pop/Rock\n3        3             1    Pop/Rock\n4        4             2       Latin\n...    ...           ...         ...\n5598  5598             2    Pop/Rock\n5599  5599             0    Pop/Rock\n5600  5600             1  Electronic\n5601  5601             0    Pop/Rock\n5602  5602             2        R&B;\n\n[5603 rows x 3 columns]",
      "text/html": "<div>\n<style scoped>\n    .dataframe tbody tr th:only-of-type {\n        vertical-align: middle;\n    }\n\n    .dataframe tbody tr th {\n        vertical-align: top;\n    }\n\n    .dataframe thead th {\n        text-align: right;\n    }\n</style>\n<table border=\"1\" class=\"dataframe\">\n  <thead>\n    <tr style=\"text-align: right;\">\n      <th></th>\n      <th>id</th>\n      <th>community_id</th>\n      <th>genre</th>\n    </tr>\n  </thead>\n  <tbody>\n    <tr>\n      <th>0</th>\n      <td>0</td>\n      <td>0</td>\n      <td>Pop/Rock</td>\n    </tr>\n    <tr>\n      <th>1</th>\n      <td>1</td>\n      <td>0</td>\n      <td>Pop/Rock</td>\n    </tr>\n    <tr>\n      <th>2</th>\n      <td>2</td>\n      <td>0</td>\n      <td>Pop/Rock</td>\n    </tr>\n    <tr>\n      <th>3</th>\n      <td>3</td>\n      <td>1</td>\n      <td>Pop/Rock</td>\n    </tr>\n    <tr>\n      <th>4</th>\n      <td>4</td>\n      <td>2</td>\n      <td>Latin</td>\n    </tr>\n    <tr>\n      <th>...</th>\n      <td>...</td>\n      <td>...</td>\n      <td>...</td>\n    </tr>\n    <tr>\n      <th>5598</th>\n      <td>5598</td>\n      <td>2</td>\n      <td>Pop/Rock</td>\n    </tr>\n    <tr>\n      <th>5599</th>\n      <td>5599</td>\n      <td>0</td>\n      <td>Pop/Rock</td>\n    </tr>\n    <tr>\n      <th>5600</th>\n      <td>5600</td>\n      <td>1</td>\n      <td>Electronic</td>\n    </tr>\n    <tr>\n      <th>5601</th>\n      <td>5601</td>\n      <td>0</td>\n      <td>Pop/Rock</td>\n    </tr>\n    <tr>\n      <th>5602</th>\n      <td>5602</td>\n      <td>2</td>\n      <td>R&amp;B;</td>\n    </tr>\n  </tbody>\n</table>\n<p>5603 rows × 3 columns</p>\n</div>"
     },
     "execution_count": 19,
     "metadata": {},
     "output_type": "execute_result"
    }
   ],
   "source": [
    "import pandas as pd\n",
    "data = pd.read_csv('../first/membership1.csv')\n",
    "data\n"
   ]
  },
  {
   "cell_type": "code",
   "execution_count": 20,
   "outputs": [
    {
     "name": "stdout",
     "output_type": "stream",
     "text": [
      "1917\n",
      "2087\n",
      "1261\n",
      "180\n",
      "46\n",
      "25\n",
      "3\n",
      "56\n",
      "3\n",
      "2\n",
      "5\n",
      "8\n",
      "2\n",
      "2\n",
      "4\n",
      "2\n"
     ]
    }
   ],
   "source": [
    "colums = data['genre'].unique()\n",
    "f = open('community_genre.csv','a+')\n",
    "f.write(\"community_id\")\n",
    "for i in colums:\n",
    "    f.write(\",%s\"%i)\n",
    "f.write(\",n\\n\")\n",
    "for i in range(len(data['community_id'].unique())):\n",
    "    f.write(\"%d\"%i)\n",
    "    data1 = data[data['community_id']==i]\n",
    "    for j in colums:\n",
    "        f.write(\",%f\"%(sum(data1['genre']==j)/len(data1)))\n",
    "    f.write(\",%d\\n\"%(len(data1)))\n",
    "    print((len(data1)))\n",
    "f.close()"
   ],
   "metadata": {
    "collapsed": false,
    "pycharm": {
     "name": "#%%\n"
    }
   }
  },
  {
   "cell_type": "code",
   "execution_count": 21,
   "outputs": [
    {
     "data": {
      "text/plain": "array(['Pop/Rock', 'Latin', 'Jazz', 'R&B;', 'International', 'Country',\n       'Classical', 'Electronic', 'Stage & Screen', 'Comedy/Spoken',\n       'Easy Listening', 'Vocal', 'Reggae', 'Blues', 'New Age',\n       'Religious', 'Folk', 'Unknown', 'Avant-Garde', \"Children's\"],\n      dtype=object)"
     },
     "execution_count": 21,
     "metadata": {},
     "output_type": "execute_result"
    }
   ],
   "source": [
    "colums\n"
   ],
   "metadata": {
    "collapsed": false,
    "pycharm": {
     "name": "#%%\n"
    }
   }
  },
  {
   "cell_type": "code",
   "execution_count": 21,
   "outputs": [],
   "source": [],
   "metadata": {
    "collapsed": false,
    "pycharm": {
     "name": "#%%\n"
    }
   }
  }
 ],
 "metadata": {
  "kernelspec": {
   "name": "pycharm-f6d9f65c",
   "language": "python",
   "display_name": "PyCharm (2020-11-16)"
  },
  "language_info": {
   "codemirror_mode": {
    "name": "ipython",
    "version": 2
   },
   "file_extension": ".py",
   "mimetype": "text/x-python",
   "name": "python",
   "nbconvert_exporter": "python",
   "pygments_lexer": "ipython2",
   "version": "2.7.6"
  }
 },
 "nbformat": 4,
 "nbformat_minor": 0
}