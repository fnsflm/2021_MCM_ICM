{
 "cells": [
  {
   "cell_type": "code",
   "execution_count": 59,
   "metadata": {
    "collapsed": true
   },
   "outputs": [],
   "source": [
    "import pandas as pd\n",
    "import pandas as np"
   ]
  },
  {
   "cell_type": "code",
   "execution_count": 47,
   "outputs": [
    {
     "data": {
      "text/plain": "[38, 41, 25, 3, 0, 0, 0, 1, 0, 0, 0, 0, 0, 0, 0, 0]"
     },
     "execution_count": 47,
     "metadata": {},
     "output_type": "execute_result"
    }
   ],
   "source": [
    "ns = [1917,\n",
    "2087,\n",
    "1261,\n",
    "180,\n",
    "46,\n",
    "25,\n",
    "3,\n",
    "56,\n",
    "3,\n",
    "2,\n",
    "5,\n",
    "8,\n",
    "2,\n",
    "2,\n",
    "4,\n",
    "2]\n",
    "main_infulencer = list(map(int,np.array(ns)/50))\n",
    "main_infulencer"
   ],
   "metadata": {
    "collapsed": false,
    "pycharm": {
     "name": "#%%\n"
    }
   }
  },
  {
   "cell_type": "code",
   "execution_count": 38,
   "outputs": [
    {
     "name": "stdout",
     "output_type": "stream",
     "text": [
      "         0            1  2\n",
      "3130  3130  3494478.663  1\n",
      "2194  2194  3463444.477  1\n",
      "30      30  2563455.317  1\n",
      "2709  2709  2103948.341  1\n",
      "2477  2477  2068986.398  1\n",
      "...    ...          ... ..\n",
      "2924  2924        0.000  0\n",
      "2927  2927        0.000  1\n",
      "2930  2930        0.000  1\n",
      "2934  2934        0.000  0\n",
      "5602  5602        0.000  2\n",
      "\n",
      "[5603 rows x 3 columns]\n",
      "[41, 334, 348, 371, 735, 839, 944, 951, 995, 1155, 1516, 1525, 2494, 2521, 2955, 2960, 3012, 3027, 3127, 3206, 3244, 3288, 3308, 3526, 3573, 3961, 4043, 4078, 4125, 4213, 4612, 4616, 4758, 4815, 4913, 4917, 4923, 5146]\n",
      "[30, 416, 515, 622, 639, 658, 677, 695, 698, 913, 996, 1054, 1465, 1503, 1670, 1909, 2114, 2136, 2194, 2312, 2354, 2477, 2709, 2935, 3130, 3172, 3286, 3421, 3635, 3896, 3944, 4031, 4469, 4517, 4527, 4656, 4841, 4842, 5110, 5112, 5176]\n",
      "[295, 646, 1325, 1408, 1426, 1453, 1723, 1756, 2071, 2082, 2480, 2495, 2550, 2681, 2716, 2787, 2966, 3586, 3852, 4103, 4266, 4281, 4388, 4948, 5064]\n",
      "[2233, 2398, 4481]\n",
      "[2023]\n"
     ]
    }
   ],
   "source": [
    "data = pd.read_csv('../first/influcing_katz1.csv',header=None)\n",
    "data = data.sort_values(1,ascending=False)\n",
    "print(data)\n",
    "for i in range(len(data[2].unique())):\n",
    "    data2 = data[data[2]==i].sort_values(1,ascending=False)\n",
    "    if main_infulencer[i]==0:\n",
    "        continue\n",
    "    # print(i)\n",
    "    print(sorted(data2[0].values[:main_infulencer[i]]))"
   ],
   "metadata": {
    "collapsed": false,
    "pycharm": {
     "name": "#%%\n"
    }
   }
  },
  {
   "cell_type": "code",
   "execution_count": 39,
   "outputs": [
    {
     "name": "stdout",
     "output_type": "stream",
     "text": [
      "[36, 247, 251, 823, 837, 915, 957, 1034, 1145, 1189, 1240, 1512, 1547, 1627, 1867, 2229, 2345, 2436, 2773, 2947, 3085, 3364, 3379, 3606, 4090, 4092, 4157, 4491, 4826, 4874, 5153, 5210, 5282, 5331, 5404, 5424, 5471, 5494]\n",
      "[106, 364, 410, 435, 487, 699, 988, 1286, 1338, 1439, 1477, 1492, 1640, 1742, 2035, 2098, 2289, 2541, 2542, 2605, 2734, 3113, 3404, 3585, 3780, 4044, 4083, 4295, 4296, 4393, 4830, 4876, 5272, 5301, 5334, 5354, 5422, 5475, 5515, 5537, 5576]\n",
      "[49, 141, 279, 329, 504, 761, 924, 949, 2055, 2140, 2607, 2989, 3656, 3712, 4113, 4219, 4258, 4268, 4413, 4795, 5031, 5228, 5335, 5397, 5522]\n",
      "[2623, 3357, 4003]\n",
      "[2318]\n"
     ]
    }
   ],
   "source": [
    "data = pd.read_csv('../first/clst1.csv',header=None)\n",
    "data = data.sort_values(1,ascending=False)\n",
    "# print(data)\n",
    "for i in range(len(data[2].unique())):\n",
    "    data2 = data[data[2]==i].sort_values(1,ascending=False)\n",
    "    if main_infulencer[i]==0:\n",
    "        continue\n",
    "    print((sorted(data2[0].values[:main_infulencer[i]])))"
   ],
   "metadata": {
    "collapsed": false,
    "pycharm": {
     "name": "#%%\n"
    }
   }
  },
  {
   "cell_type": "code",
   "execution_count": 40,
   "outputs": [
    {
     "name": "stdout",
     "output_type": "stream",
     "text": [
      "[165, 200, 228, 334, 566, 590, 620, 623, 632, 635, 706, 995, 999, 1150, 1385, 1525, 2425, 2523, 2731, 2875, 2939, 3012, 3242, 3690, 3695, 3761, 3767, 4077, 4078, 4115, 4117, 4317, 4333, 4491, 4642, 4758, 4877, 4977]\n",
      "[30, 111, 515, 622, 658, 677, 695, 698, 1069, 1142, 1157, 1644, 1670, 1839, 2136, 2194, 2349, 2354, 2474, 2477, 2520, 2586, 2709, 3130, 3172, 3286, 3421, 3608, 3635, 3896, 3915, 3944, 4196, 4324, 4527, 4656, 4841, 4842, 5110, 5112, 5176]\n",
      "[646, 652, 687, 1325, 1408, 1511, 1555, 2071, 2082, 2495, 2681, 2821, 3075, 3179, 3356, 3414, 3508, 3563, 3852, 3994, 4266, 4388, 4948, 5017, 5102]\n",
      "[1876, 4544, 4545]\n",
      "[1190]\n"
     ]
    }
   ],
   "source": [
    "data = pd.read_csv('../first/length1.csv',header=None)\n",
    "data = data.sort_values(1,ascending=False)\n",
    "# print(data)\n",
    "for i in range(len(data[2].unique())):\n",
    "    data2 = data[data[2]==i].sort_values(1,ascending=False)\n",
    "    if main_infulencer[i]==0:\n",
    "        continue\n",
    "    print((sorted(data2[0].values[:main_infulencer[i]])))"
   ],
   "metadata": {
    "collapsed": false,
    "pycharm": {
     "name": "#%%\n"
    }
   }
  },
  {
   "cell_type": "code",
   "execution_count": 48,
   "outputs": [],
   "source": [
    "mmp = [[41, 334, 348, 371, 735, 839, 944, 951, 995, 1155, 1516, 1525, 2494, 2521, 2955, 2960, 3012, 3027, 3127, 3206, 3244, 3288, 3308, 3526, 3573, 3961, 4043, 4078, 4125, 4213, 4612, 4616, 4758, 4815, 4913, 4917, 4923, 5146],\n",
    "[165, 200, 228, 334, 566, 590, 620, 623, 632, 635, 706, 995, 999, 1150, 1385, 1525, 2425, 2523, 2731, 2875, 2939, 3012, 3242, 3690, 3695, 3761, 3767, 4077, 4078, 4115, 4117, 4317, 4333, 4491, 4642, 4758, 4877, 4977],\n",
    "[36, 247, 251, 823, 837, 915, 957, 1034, 1145, 1189, 1240, 1512, 1547, 1627, 1867, 2229, 2345, 2436, 2773, 2947, 3085, 3364, 3379, 3606, 4090, 4092, 4157, 4491, 4826, 4874, 5153, 5210, 5282, 5331, 5404, 5424, 5471, 5494]]"
   ],
   "metadata": {
    "collapsed": false,
    "pycharm": {
     "name": "#%%\n"
    }
   }
  },
  {
   "cell_type": "code",
   "execution_count": 45,
   "outputs": [
    {
     "name": "stdout",
     "output_type": "stream",
     "text": [
      "334\n",
      "995\n",
      "1525\n",
      "3012\n",
      "4078\n",
      "4758\n"
     ]
    }
   ],
   "source": [
    "for i in range(len(mmp[0])):\n",
    "    if mmp[0][i] in mmp[1] or mmp[0][i] in mmp[2]:\n",
    "        print(mmp[0][i])"
   ],
   "metadata": {
    "collapsed": false,
    "pycharm": {
     "name": "#%%\n"
    }
   }
  },
  {
   "cell_type": "code",
   "execution_count": 46,
   "outputs": [
    {
     "name": "stdout",
     "output_type": "stream",
     "text": [
      "4491\n"
     ]
    }
   ],
   "source": [
    "for i in range(len(mmp[0])):\n",
    "    if mmp[1][i] in mmp[2]:\n",
    "        print(mmp[1][i])\n"
   ],
   "metadata": {
    "collapsed": false,
    "pycharm": {
     "name": "#%%\n"
    }
   }
  },
  {
   "cell_type": "code",
   "execution_count": 51,
   "outputs": [
    {
     "name": "stdout",
     "output_type": "stream",
     "text": [
      "30\n",
      "515\n",
      "622\n",
      "658\n",
      "677\n",
      "695\n",
      "698\n",
      "1670\n",
      "2136\n",
      "2194\n",
      "2354\n",
      "2477\n",
      "2709\n",
      "3130\n",
      "3172\n",
      "3286\n",
      "3421\n",
      "3635\n",
      "3896\n",
      "3944\n",
      "4527\n",
      "4656\n",
      "4841\n",
      "4842\n",
      "5110\n",
      "5112\n",
      "5176\n"
     ]
    }
   ],
   "source": [
    "mmp=[[30, 416, 515, 622, 639, 658, 677, 695, 698, 913, 996, 1054, 1465, 1503, 1670, 1909, 2114, 2136, 2194, 2312, 2354, 2477, 2709, 2935, 3130, 3172, 3286, 3421, 3635, 3896, 3944, 4031, 4469, 4517, 4527, 4656, 4841, 4842, 5110, 5112, 5176],\n",
    "[106, 364, 410, 435, 487, 699, 988, 1286, 1338, 1439, 1477, 1492, 1640, 1742, 2035, 2098, 2289, 2541, 2542, 2605, 2734, 3113, 3404, 3585, 3780, 4044, 4083, 4295, 4296, 4393, 4830, 4876, 5272, 5301, 5334, 5354, 5422, 5475, 5515, 5537, 5576],\n",
    "[30, 111, 515, 622, 658, 677, 695, 698, 1069, 1142, 1157, 1644, 1670, 1839, 2136, 2194, 2349, 2354, 2474, 2477, 2520, 2586, 2709, 3130, 3172, 3286, 3421, 3608, 3635, 3896, 3915, 3944, 4196, 4324, 4527, 4656, 4841, 4842, 5110, 5112, 5176]]\n",
    "for i in range(len(mmp[0])):\n",
    "    if mmp[0][i] in mmp[1] or mmp[0][i] in mmp[2]:\n",
    "        print(mmp[0][i])"
   ],
   "metadata": {
    "collapsed": false,
    "pycharm": {
     "name": "#%%\n"
    }
   }
  },
  {
   "cell_type": "code",
   "execution_count": 52,
   "outputs": [],
   "source": [
    "for i in range(len(mmp[0])):\n",
    "    if mmp[1][i] in mmp[2]:\n",
    "        print(mmp[1][i])"
   ],
   "metadata": {
    "collapsed": false,
    "pycharm": {
     "name": "#%%\n"
    }
   }
  },
  {
   "cell_type": "code",
   "execution_count": 57,
   "outputs": [
    {
     "name": "stdout",
     "output_type": "stream",
     "text": [
      "646\n",
      "1325\n",
      "1408\n",
      "2071\n",
      "2082\n",
      "2495\n",
      "2681\n",
      "3852\n",
      "4266\n",
      "4388\n",
      "4948\n"
     ]
    }
   ],
   "source": [
    "mmp=[[646, 652, 687, 1325, 1408, 1511, 1555, 2071, 2082, 2495, 2681, 2821, 3075, 3179, 3356, 3414, 3508, 3563, 3852, 3994, 4266, 4388, 4948, 5017, 5102],\n",
    "[49, 141, 279, 329, 504, 761, 924, 949, 2055, 2140, 2607, 2989, 3656, 3712, 4113, 4219, 4258, 4268, 4413, 4795, 5031, 5228, 5335, 5397, 5522],\n",
    "[295, 646, 1325, 1408, 1426, 1453, 1723, 1756, 2071, 2082, 2480, 2495, 2550, 2681, 2716, 2787, 2966, 3586, 3852, 4103, 4266, 4281, 4388, 4948, 5064]]\n",
    "for i in range(len(mmp[0])):\n",
    "    if mmp[0][i] in mmp[1] or mmp[0][i] in mmp[2]:\n",
    "        print(mmp[0][i])"
   ],
   "metadata": {
    "collapsed": false,
    "pycharm": {
     "name": "#%%\n"
    }
   }
  },
  {
   "cell_type": "code",
   "execution_count": 58,
   "outputs": [],
   "source": [
    "for i in range(len(mmp[0])):\n",
    "    if mmp[1][i] in mmp[2]:\n",
    "        print(mmp[1][i])"
   ],
   "metadata": {
    "collapsed": false,
    "pycharm": {
     "name": "#%%\n"
    }
   }
  },
  {
   "cell_type": "code",
   "execution_count": null,
   "outputs": [],
   "source": [],
   "metadata": {
    "collapsed": false,
    "pycharm": {
     "name": "#%%\n"
    }
   }
  }
 ],
 "metadata": {
  "kernelspec": {
   "display_name": "PyCharm (2020-11-16)",
   "language": "python",
   "name": "pycharm-f6d9f65c"
  },
  "language_info": {
   "codemirror_mode": {
    "name": "ipython",
    "version": 2
   },
   "file_extension": ".py",
   "mimetype": "text/x-python",
   "name": "python",
   "nbconvert_exporter": "python",
   "pygments_lexer": "ipython2",
   "version": "2.7.6"
  }
 },
 "nbformat": 4,
 "nbformat_minor": 0
}